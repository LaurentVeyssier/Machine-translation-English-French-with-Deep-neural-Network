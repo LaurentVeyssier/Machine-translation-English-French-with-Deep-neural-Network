{
 "cells": [
  {
   "cell_type": "markdown",
   "metadata": {
    "collapsed": true
   },
   "source": [
    "# Artificial Intelligence Nanodegree\n",
    "## Machine Translation Project\n",
    "In this notebook, sections that end with **'(IMPLEMENTATION)'** in the header indicate that the following blocks of code will require additional functionality which you must provide. Please be sure to read the instructions carefully!\n",
    "\n",
    "## Introduction\n",
    "In this notebook, you will build a deep neural network that functions as part of an end-to-end machine translation pipeline. Your completed pipeline will accept English text as input and return the French translation.\n",
    "\n",
    "- **Preprocess** - You'll convert text to sequence of integers.\n",
    "- **Models** Create models which accepts a sequence of integers as input and returns a probability distribution over possible translations. After learning about the basic types of neural networks that are often used for machine translation, you will engage in your own investigations, to design your own model!\n",
    "- **Prediction** Run the model on English text."
   ]
  },
  {
   "cell_type": "code",
   "execution_count": 1,
   "metadata": {},
   "outputs": [],
   "source": [
    "%load_ext autoreload\n",
    "%aimport helper, tests\n",
    "%autoreload 1"
   ]
  },
  {
   "cell_type": "code",
   "execution_count": 2,
   "metadata": {},
   "outputs": [
    {
     "name": "stderr",
     "output_type": "stream",
     "text": [
      "Using TensorFlow backend.\n"
     ]
    }
   ],
   "source": [
    "import collections\n",
    "\n",
    "import helper\n",
    "import numpy as np\n",
    "import project_tests as tests\n",
    "\n",
    "from keras import Input, Sequential\n",
    "from keras.preprocessing.text import Tokenizer\n",
    "from keras.preprocessing.sequence import pad_sequences\n",
    "from keras.models import Model\n",
    "from keras.layers import GRU, Input, Dense, TimeDistributed, Activation, RepeatVector, Bidirectional, LSTM\n",
    "from keras.layers.embeddings import Embedding\n",
    "from keras.optimizers import Adam\n",
    "from keras.losses import sparse_categorical_crossentropy"
   ]
  },
  {
   "cell_type": "markdown",
   "metadata": {},
   "source": [
    "### Verify access to the GPU\n",
    "The following test applies only if you expect to be using a GPU, e.g., while running in a Udacity Workspace or using an AWS instance with GPU support. Run the next cell, and verify that the device_type is \"GPU\".\n",
    "- If the device is not GPU & you are running from a Udacity Workspace, then save your workspace with the icon at the top, then click \"enable\" at the bottom of the workspace.\n",
    "- If the device is not GPU & you are running from an AWS instance, then refer to the cloud computing instructions in the classroom to verify your setup steps."
   ]
  },
  {
   "cell_type": "code",
   "execution_count": 3,
   "metadata": {},
   "outputs": [
    {
     "name": "stdout",
     "output_type": "stream",
     "text": [
      "[name: \"/device:CPU:0\"\n",
      "device_type: \"CPU\"\n",
      "memory_limit: 268435456\n",
      "locality {\n",
      "}\n",
      "incarnation: 7111692917296967274\n",
      ", name: \"/device:GPU:0\"\n",
      "device_type: \"GPU\"\n",
      "memory_limit: 4828102656\n",
      "locality {\n",
      "  bus_id: 1\n",
      "  links {\n",
      "  }\n",
      "}\n",
      "incarnation: 13864016332583412097\n",
      "physical_device_desc: \"device: 0, name: GeForce RTX 2060, pci bus id: 0000:01:00.0, compute capability: 7.5\"\n",
      "]\n"
     ]
    }
   ],
   "source": [
    "from tensorflow.python.client import device_lib\n",
    "print(device_lib.list_local_devices())"
   ]
  },
  {
   "cell_type": "markdown",
   "metadata": {},
   "source": [
    "## Dataset\n",
    "We begin by investigating the dataset that will be used to train and evaluate your pipeline.  The most common datasets used for machine translation are from [WMT](http://www.statmt.org/).  However, that will take a long time to train a neural network on.  We'll be using a dataset we created for this project that contains a small vocabulary.  You'll be able to train your model in a reasonable time with this dataset.\n",
    "### Load Data\n",
    "The data is located in `data/small_vocab_en` and `data/small_vocab_fr`. The `small_vocab_en` file contains English sentences with their French translations in the `small_vocab_fr` file. Load the English and French data from these files from running the cell below."
   ]
  },
  {
   "cell_type": "code",
   "execution_count": 4,
   "metadata": {},
   "outputs": [
    {
     "name": "stdout",
     "output_type": "stream",
     "text": [
      "Dataset Loaded\n"
     ]
    }
   ],
   "source": [
    "# Load English data\n",
    "english_sentences = helper.load_data('data/small_vocab_en')\n",
    "# Load French data\n",
    "french_sentences = helper.load_data('data/small_vocab_fr')\n",
    "\n",
    "print('Dataset Loaded')"
   ]
  },
  {
   "cell_type": "markdown",
   "metadata": {},
   "source": [
    "### Files\n",
    "Each line in `small_vocab_en` contains an English sentence with the respective translation in each line of `small_vocab_fr`.  View the first two lines from each file."
   ]
  },
  {
   "cell_type": "code",
   "execution_count": 5,
   "metadata": {},
   "outputs": [
    {
     "name": "stdout",
     "output_type": "stream",
     "text": [
      "small_vocab_en Line 1:  new jersey is sometimes quiet during autumn , and it is snowy in april .\n",
      "small_vocab_fr Line 1:  new jersey est parfois calme pendant l' automne , et il est neigeux en avril .\n",
      "small_vocab_en Line 2:  the united states is usually chilly during july , and it is usually freezing in november .\n",
      "small_vocab_fr Line 2:  les Ã©tats-unis est gÃ©nÃ©ralement froid en juillet , et il gÃ¨le habituellement en novembre .\n"
     ]
    }
   ],
   "source": [
    "for sample_i in range(2):\n",
    "    print('small_vocab_en Line {}:  {}'.format(sample_i + 1, english_sentences[sample_i]))\n",
    "    print('small_vocab_fr Line {}:  {}'.format(sample_i + 1, french_sentences[sample_i]))"
   ]
  },
  {
   "cell_type": "markdown",
   "metadata": {},
   "source": [
    "From looking at the sentences, you can see they have been preprocessed already.  The puncuations have been delimited using spaces. All the text have been converted to lowercase.  This should save you some time, but the text requires more preprocessing.\n",
    "### Vocabulary\n",
    "The complexity of the problem is determined by the complexity of the vocabulary.  A more complex vocabulary is a more complex problem.  Let's look at the complexity of the dataset we'll be working with."
   ]
  },
  {
   "cell_type": "code",
   "execution_count": 6,
   "metadata": {},
   "outputs": [
    {
     "name": "stdout",
     "output_type": "stream",
     "text": [
      "1823250 English words.\n",
      "227 unique English words.\n",
      "10 Most common words in the English dataset:\n",
      "\"is\" \",\" \".\" \"in\" \"it\" \"during\" \"the\" \"but\" \"and\" \"sometimes\"\n",
      "\n",
      "1961295 French words.\n",
      "355 unique French words.\n",
      "10 Most common words in the French dataset:\n",
      "\"est\" \".\" \",\" \"en\" \"il\" \"les\" \"mais\" \"et\" \"la\" \"parfois\"\n"
     ]
    }
   ],
   "source": [
    "english_words_counter = collections.Counter([word for sentence in english_sentences for word in sentence.split()])\n",
    "french_words_counter = collections.Counter([word for sentence in french_sentences for word in sentence.split()])\n",
    "\n",
    "print('{} English words.'.format(len([word for sentence in english_sentences for word in sentence.split()])))\n",
    "print('{} unique English words.'.format(len(english_words_counter)))\n",
    "print('10 Most common words in the English dataset:')\n",
    "print('\"' + '\" \"'.join(list(zip(*english_words_counter.most_common(10)))[0]) + '\"')\n",
    "print()\n",
    "print('{} French words.'.format(len([word for sentence in french_sentences for word in sentence.split()])))\n",
    "print('{} unique French words.'.format(len(french_words_counter)))\n",
    "print('10 Most common words in the French dataset:')\n",
    "print('\"' + '\" \"'.join(list(zip(*french_words_counter.most_common(10)))[0]) + '\"')"
   ]
  },
  {
   "cell_type": "markdown",
   "metadata": {},
   "source": [
    "For comparison, _Alice's Adventures in Wonderland_ contains 2,766 unique words of a total of 15,500 words.\n",
    "## Preprocess\n",
    "For this project, you won't use text data as input to your model. Instead, you'll convert the text into sequences of integers using the following preprocess methods:\n",
    "1. Tokenize the words into ids\n",
    "2. Add padding to make all the sequences the same length.\n",
    "\n",
    "Time to start preprocessing the data...\n",
    "### Tokenize (IMPLEMENTATION)\n",
    "For a neural network to predict on text data, it first has to be turned into data it can understand. Text data like \"dog\" is a sequence of ASCII character encodings.  Since a neural network is a series of multiplication and addition operations, the input data needs to be number(s).\n",
    "\n",
    "We can turn each character into a number or each word into a number.  These are called character and word ids, respectively.  Character ids are used for character level models that generate text predictions for each character.  A word level model uses word ids that generate text predictions for each word.  Word level models tend to learn better, since they are lower in complexity, so we'll use those.\n",
    "\n",
    "Turn each sentence into a sequence of words ids using Keras's [`Tokenizer`](https://keras.io/preprocessing/text/#tokenizer) function. Use this function to tokenize `english_sentences` and `french_sentences` in the cell below.\n",
    "\n",
    "Running the cell will run `tokenize` on sample data and show output for debugging."
   ]
  },
  {
   "cell_type": "code",
   "execution_count": 7,
   "metadata": {},
   "outputs": [
    {
     "name": "stdout",
     "output_type": "stream",
     "text": [
      "{'the': 1, 'quick': 2, 'a': 3, 'brown': 4, 'fox': 5, 'jumps': 6, 'over': 7, 'lazy': 8, 'dog': 9, 'by': 10, 'jove': 11, 'my': 12, 'study': 13, 'of': 14, 'lexicography': 15, 'won': 16, 'prize': 17, 'this': 18, 'is': 19, 'short': 20, 'sentence': 21}\n",
      "\n",
      "Sequence 1 in x\n",
      "  Input:  The quick brown fox jumps over the lazy dog .\n",
      "  Output: [1, 2, 4, 5, 6, 7, 1, 8, 9]\n",
      "Sequence 2 in x\n",
      "  Input:  By Jove , my quick study of lexicography won a prize .\n",
      "  Output: [10, 11, 12, 2, 13, 14, 15, 16, 3, 17]\n",
      "Sequence 3 in x\n",
      "  Input:  This is a short sentence .\n",
      "  Output: [18, 19, 3, 20, 21]\n"
     ]
    }
   ],
   "source": [
    "def tokenize(x):\n",
    "    \"\"\"\n",
    "    Tokenize x\n",
    "    :param x: List of sentences/strings to be tokenized\n",
    "    :return: Tuple of (tokenized x data, tokenizer used to tokenize x)\n",
    "    \"\"\"\n",
    "    # TODO: Implement\n",
    "    tokenizer = Tokenizer(split=' ', char_level=False)\n",
    "    tokenizer.fit_on_texts(x)\n",
    "    return tokenizer.texts_to_sequences(x), tokenizer           # texts_to_sequences_generator(), Yields individual sequences.\n",
    "\n",
    "tests.test_tokenize(tokenize)\n",
    "\n",
    "# Tokenize Example output\n",
    "text_sentences = [\n",
    "    'The quick brown fox jumps over the lazy dog .',\n",
    "    'By Jove , my quick study of lexicography won a prize .',\n",
    "    'This is a short sentence .']\n",
    "text_tokenized, text_tokenizer = tokenize(text_sentences)\n",
    "print(text_tokenizer.word_index)\n",
    "print()\n",
    "for sample_i, (sent, token_sent) in enumerate(zip(text_sentences, text_tokenized)):\n",
    "    print('Sequence {} in x'.format(sample_i + 1))\n",
    "    print('  Input:  {}'.format(sent))\n",
    "    print('  Output: {}'.format(token_sent))"
   ]
  },
  {
   "cell_type": "markdown",
   "metadata": {},
   "source": [
    "### Padding (IMPLEMENTATION)\n",
    "When batching the sequence of word ids together, each sequence needs to be the same length.  Since sentences are dynamic in length, we can add padding to the end of the sequences to make them the same length.\n",
    "\n",
    "Make sure all the English sequences have the same length and all the French sequences have the same length by adding padding to the **end** of each sequence using Keras's [`pad_sequences`](https://keras.io/preprocessing/sequence/#pad_sequences) function."
   ]
  },
  {
   "cell_type": "code",
   "execution_count": 8,
   "metadata": {},
   "outputs": [
    {
     "data": {
      "text/plain": [
       "[[1, 2, 4, 5, 6, 7, 1, 8, 9],\n",
       " [10, 11, 12, 2, 13, 14, 15, 16, 3, 17],\n",
       " [18, 19, 3, 20, 21]]"
      ]
     },
     "execution_count": 8,
     "metadata": {},
     "output_type": "execute_result"
    }
   ],
   "source": [
    "text_tokenized"
   ]
  },
  {
   "cell_type": "code",
   "execution_count": 9,
   "metadata": {},
   "outputs": [
    {
     "name": "stdout",
     "output_type": "stream",
     "text": [
      "Sequence 1 in x\n",
      "  Input:  [1 2 4 5 6 7 1 8 9]\n",
      "  Output: [1 2 4 5 6 7 1 8 9 0]\n",
      "Sequence 2 in x\n",
      "  Input:  [10 11 12  2 13 14 15 16  3 17]\n",
      "  Output: [10 11 12  2 13 14 15 16  3 17]\n",
      "Sequence 3 in x\n",
      "  Input:  [18 19  3 20 21]\n",
      "  Output: [18 19  3 20 21  0  0  0  0  0]\n"
     ]
    }
   ],
   "source": [
    "def pad(x, length=None):\n",
    "    \"\"\"\n",
    "    Pad x\n",
    "    :param x: List of sequences.\n",
    "    :param length: Length to pad the sequence to.  If None, use length of longest sequence in x.\n",
    "    :return: Padded numpy array of sequences\n",
    "    \"\"\"\n",
    "    # TODO: Implement\n",
    "    if length is None:\n",
    "        length = max([len(sentence) for sentence in x])\n",
    "    \n",
    "    return pad_sequences(x, maxlen=length, padding='post', truncating='post')\n",
    "\n",
    "tests.test_pad(pad)\n",
    "\n",
    "# Pad Tokenized output\n",
    "test_pad = pad(text_tokenized)\n",
    "for sample_i, (token_sent, pad_sent) in enumerate(zip(text_tokenized, test_pad)):\n",
    "    print('Sequence {} in x'.format(sample_i + 1))\n",
    "    print('  Input:  {}'.format(np.array(token_sent)))\n",
    "    print('  Output: {}'.format(pad_sent))"
   ]
  },
  {
   "cell_type": "markdown",
   "metadata": {},
   "source": [
    "### Preprocess Pipeline\n",
    "Your focus for this project is to build neural network architecture, so we won't ask you to create a preprocess pipeline.  Instead, we've provided you with the implementation of the `preprocess` function."
   ]
  },
  {
   "cell_type": "code",
   "execution_count": 10,
   "metadata": {},
   "outputs": [
    {
     "name": "stdout",
     "output_type": "stream",
     "text": [
      "Data Preprocessed\n",
      "Max English sentence length: 15\n",
      "Max French sentence length: 21\n",
      "English vocabulary size: 199\n",
      "French vocabulary size: 345\n"
     ]
    }
   ],
   "source": [
    "def preprocess(x, y):\n",
    "    \"\"\"\n",
    "    Preprocess x and y\n",
    "    :param x: Feature List of sentences\n",
    "    :param y: Label List of sentences\n",
    "    :return: Tuple of (Preprocessed x, Preprocessed y, x tokenizer, y tokenizer)\n",
    "    \"\"\"\n",
    "    preprocess_x, x_tk = tokenize(x)\n",
    "    preprocess_y, y_tk = tokenize(y)\n",
    "\n",
    "    preprocess_x = pad(preprocess_x)\n",
    "    preprocess_y = pad(preprocess_y)\n",
    "\n",
    "    # Keras's sparse_categorical_crossentropy function requires the labels to be in 3 dimensions\n",
    "    preprocess_y = preprocess_y.reshape(*preprocess_y.shape, 1)\n",
    "\n",
    "    return preprocess_x, preprocess_y, x_tk, y_tk\n",
    "\n",
    "preproc_english_sentences, preproc_french_sentences, english_tokenizer, french_tokenizer =\\\n",
    "    preprocess(english_sentences, french_sentences)\n",
    "    \n",
    "max_english_sequence_length = preproc_english_sentences.shape[1]\n",
    "max_french_sequence_length = preproc_french_sentences.shape[1]\n",
    "english_vocab_size = len(english_tokenizer.word_index)\n",
    "french_vocab_size = len(french_tokenizer.word_index)\n",
    "\n",
    "print('Data Preprocessed')\n",
    "print(\"Max English sentence length:\", max_english_sequence_length)\n",
    "print(\"Max French sentence length:\", max_french_sequence_length)\n",
    "print(\"English vocabulary size:\", english_vocab_size)\n",
    "print(\"French vocabulary size:\", french_vocab_size)"
   ]
  },
  {
   "cell_type": "code",
   "execution_count": 11,
   "metadata": {},
   "outputs": [
    {
     "name": "stdout",
     "output_type": "stream",
     "text": [
      "<class 'numpy.ndarray'>\n",
      "(137861, 15)\n"
     ]
    }
   ],
   "source": [
    "print(type(preproc_english_sentences))\n",
    "print(preproc_english_sentences.shape)"
   ]
  },
  {
   "cell_type": "markdown",
   "metadata": {},
   "source": [
    "## Models\n",
    "In this section, you will experiment with various neural network architectures.\n",
    "You will begin by training four relatively simple architectures.\n",
    "- Model 1 is a simple RNN\n",
    "- Model 2 is a RNN with Embedding\n",
    "- Model 3 is a Bidirectional RNN\n",
    "- Model 4 is an optional Encoder-Decoder RNN\n",
    "\n",
    "After experimenting with the four simple architectures, you will construct a deeper architecture that is designed to outperform all four models.\n",
    "### Ids Back to Text\n",
    "The neural network will be translating the input to words ids, which isn't the final form we want.  We want the French translation.  The function `logits_to_text` will bridge the gab between the logits from the neural network to the French translation.  You'll be using this function to better understand the output of the neural network."
   ]
  },
  {
   "cell_type": "code",
   "execution_count": 12,
   "metadata": {},
   "outputs": [
    {
     "name": "stdout",
     "output_type": "stream",
     "text": [
      "`logits_to_text` function loaded.\n"
     ]
    }
   ],
   "source": [
    "def logits_to_text(logits, tokenizer):\n",
    "    \"\"\"\n",
    "    Turn logits from a neural network into text using the tokenizer\n",
    "    :param logits: Logits from a neural network\n",
    "    :param tokenizer: Keras Tokenizer fit on the labels\n",
    "    :return: String that represents the text of the logits\n",
    "    \"\"\"\n",
    "    index_to_words = {id: word for word, id in tokenizer.word_index.items()}\n",
    "    index_to_words[0] = '<PAD>'\n",
    "\n",
    "    return ' '.join([index_to_words[prediction] for prediction in np.argmax(logits, 1) if index_to_words[prediction]!='<PAD>'] )\n",
    "\n",
    "print('`logits_to_text` function loaded.')"
   ]
  },
  {
   "cell_type": "markdown",
   "metadata": {},
   "source": [
    "### Model 1: RNN (IMPLEMENTATION)\n",
    "![RNN](images/rnn.png)\n",
    "A basic RNN model is a good baseline for sequence data.  In this model, you'll build a RNN that translates English to French.\n",
    "\n",
    "#### Inputs/Outputs shape Basic RNN\n",
    "\n",
    "- LSTM or GRU Input shape (batchsize, timesteps, 1). The timesteps is the length of the input sequences (15 for en, 21 for fr)\n",
    "- output shape LSTM (batchsize, timesteps, num_units) because Return_sequence activated to return the output at each timestep\n",
    "- Use of TimeDistributed wrapper over Dense(unitsoutput=target_vocab_size) to process each timestep\n",
    "- for each time step, Dense outputs a probability distribution over target_vocab to predict next word"
   ]
  },
  {
   "cell_type": "code",
   "execution_count": 13,
   "metadata": {},
   "outputs": [],
   "source": [
    "def token_to_words(sequence, tokenizer):\n",
    "    index_to_words = {id: word for word, id in tokenizer.word_index.items()}\n",
    "    index_to_words[0] = '<PAD>'\n",
    "\n",
    "    return [index_to_words[token] for token in sequence if index_to_words[token]!='<PAD>']"
   ]
  },
  {
   "cell_type": "code",
   "execution_count": 56,
   "metadata": {
    "scrolled": false
   },
   "outputs": [
    {
     "name": "stdout",
     "output_type": "stream",
     "text": [
      "_________________________________________________________________\n",
      "Layer (type)                 Output Shape              Param #   \n",
      "=================================================================\n",
      "input_layer (InputLayer)     (None, 21, 1)             0         \n",
      "_________________________________________________________________\n",
      "LSTM_layer (LSTM)            (None, 21, 64)            16896     \n",
      "_________________________________________________________________\n",
      "Dense_layer (TimeDistributed (None, 21, 345)           22425     \n",
      "=================================================================\n",
      "Total params: 39,321\n",
      "Trainable params: 39,321\n",
      "Non-trainable params: 0\n",
      "_________________________________________________________________\n",
      "Train on 110288 samples, validate on 27573 samples\n",
      "Epoch 1/20\n",
      "110288/110288 [==============================] - 9s 84us/step - loss: 3.4196 - acc: 0.4184 - val_loss: 2.5644 - val_acc: 0.4605\n",
      "Epoch 2/20\n",
      "110288/110288 [==============================] - 8s 69us/step - loss: 2.4462 - acc: 0.4693 - val_loss: 2.3099 - val_acc: 0.4826\n",
      "Epoch 3/20\n",
      "110288/110288 [==============================] - 8s 69us/step - loss: 2.1769 - acc: 0.5086 - val_loss: 2.0325 - val_acc: 0.5367\n",
      "Epoch 4/20\n",
      "110288/110288 [==============================] - 8s 69us/step - loss: 1.9290 - acc: 0.5504 - val_loss: 1.8386 - val_acc: 0.5639\n",
      "Epoch 5/20\n",
      "110288/110288 [==============================] - 8s 69us/step - loss: 1.7763 - acc: 0.5697 - val_loss: 1.7192 - val_acc: 0.5787\n",
      "Epoch 6/20\n",
      "110288/110288 [==============================] - 8s 69us/step - loss: 1.6761 - acc: 0.5895 - val_loss: 1.6357 - val_acc: 0.5965\n",
      "Epoch 7/20\n",
      "110288/110288 [==============================] - 8s 69us/step - loss: 1.6034 - acc: 0.5977 - val_loss: 1.5709 - val_acc: 0.6001\n",
      "Epoch 8/20\n",
      "110288/110288 [==============================] - 8s 68us/step - loss: 1.5442 - acc: 0.6021 - val_loss: 1.5162 - val_acc: 0.6118\n",
      "Epoch 9/20\n",
      "110288/110288 [==============================] - 8s 68us/step - loss: 1.4928 - acc: 0.6114 - val_loss: 1.4689 - val_acc: 0.6143\n",
      "Epoch 10/20\n",
      "110288/110288 [==============================] - 8s 69us/step - loss: 1.4487 - acc: 0.6199 - val_loss: 1.4280 - val_acc: 0.6231\n",
      "Epoch 11/20\n",
      "110288/110288 [==============================] - 8s 69us/step - loss: 1.4110 - acc: 0.6272 - val_loss: 1.3932 - val_acc: 0.6295\n",
      "Epoch 12/20\n",
      "110288/110288 [==============================] - 8s 69us/step - loss: 1.3784 - acc: 0.6323 - val_loss: 1.3625 - val_acc: 0.6332\n",
      "Epoch 13/20\n",
      "110288/110288 [==============================] - 8s 69us/step - loss: 1.3497 - acc: 0.6363 - val_loss: 1.3380 - val_acc: 0.6375\n",
      "Epoch 14/20\n",
      "110288/110288 [==============================] - 8s 69us/step - loss: 1.3243 - acc: 0.6407 - val_loss: 1.3111 - val_acc: 0.6427\n",
      "Epoch 15/20\n",
      "110288/110288 [==============================] - 8s 68us/step - loss: 1.3012 - acc: 0.6446 - val_loss: 1.2900 - val_acc: 0.6446\n",
      "Epoch 16/20\n",
      "110288/110288 [==============================] - 8s 69us/step - loss: 1.2808 - acc: 0.6462 - val_loss: 1.2711 - val_acc: 0.6465\n",
      "Epoch 17/20\n",
      "110288/110288 [==============================] - 8s 69us/step - loss: 1.2623 - acc: 0.6476 - val_loss: 1.2537 - val_acc: 0.6484\n",
      "Epoch 18/20\n",
      "110288/110288 [==============================] - 8s 69us/step - loss: 1.2459 - acc: 0.6496 - val_loss: 1.2382 - val_acc: 0.6499\n",
      "Epoch 19/20\n",
      "110288/110288 [==============================] - 8s 69us/step - loss: 1.2316 - acc: 0.6509 - val_loss: 1.2235 - val_acc: 0.6515\n",
      "Epoch 20/20\n",
      "110288/110288 [==============================] - 8s 69us/step - loss: 1.2174 - acc: 0.6527 - val_loss: 1.2101 - val_acc: 0.6532\n"
     ]
    },
    {
     "data": {
      "text/plain": [
       "<keras.callbacks.History at 0x7fb874224d30>"
      ]
     },
     "execution_count": 56,
     "metadata": {},
     "output_type": "execute_result"
    }
   ],
   "source": [
    "def simple_model(input_shape, output_sequence_length, english_vocab_size, french_vocab_size):\n",
    "    \"\"\"\n",
    "    Build and train a basic RNN on x and y\n",
    "    :param input_shape: Tuple of input shape\n",
    "    :param output_sequence_length: Length of output sequence\n",
    "    :param english_vocab_size: Number of unique English words in the dataset\n",
    "    :param french_vocab_size: Number of unique French words in the dataset\n",
    "    :return: Keras model built, but not trained\n",
    "    \"\"\"\n",
    "    # TODO: Build the layers\n",
    "    learning_rate = 0.001\n",
    "    english_input = Input(shape=input_shape[1:], name=\"input_layer\")    # the shape is (input length x 1) as batchsize excluded\n",
    "    \n",
    "    # LSTM takes as input (batchsize,input_length,1) and outputs (batchsize, input_length, 64) because return-seq=True\n",
    "    x = LSTM(64, return_sequences=True, activation=\"tanh\", name=\"LSTM_layer\")(english_input)\n",
    "    preds = TimeDistributed(Dense(french_vocab_size, activation=\"softmax\"), name=\"Dense_layer\")(x)\n",
    "    model = Model(inputs=english_input, outputs=preds, name='simple_LSTM')\n",
    "    \n",
    "    model.compile(loss=sparse_categorical_crossentropy,\n",
    "                  optimizer=Adam(learning_rate),\n",
    "                  metrics=['accuracy'])\n",
    "    \n",
    "    return model\n",
    "\n",
    "tests.test_simple_model(simple_model)\n",
    "\n",
    "# Reshaping the input to work with a basic RNN\n",
    "tmp_x = pad(preproc_english_sentences, max_french_sequence_length)\n",
    "tmp_x = tmp_x.reshape((-1, preproc_french_sentences.shape[-2], 1))  # reshape as 3D (batchsize, timesteps, 1) for LSTM input\n",
    "\n",
    "# Train the neural network\n",
    "simple_rnn_model = simple_model(\n",
    "    tmp_x.shape,\n",
    "    max_french_sequence_length,\n",
    "    english_vocab_size,\n",
    "    french_vocab_size)\n",
    "\n",
    "simple_rnn_model.summary()\n",
    "\n",
    "simple_rnn_model.fit(tmp_x, preproc_french_sentences, batch_size=1024, epochs=20, validation_split=0.2)"
   ]
  },
  {
   "cell_type": "code",
   "execution_count": 14,
   "metadata": {},
   "outputs": [],
   "source": [
    "def translate(prediction, gold_standard):\n",
    "    \n",
    "    translation = logits_to_text(prediction[0], french_tokenizer)\n",
    "    standard = ' '.join(token_to_words(gold_standard[0][:,0],french_tokenizer)) \n",
    "    print('---- Gold standard ----')\n",
    "    print(standard)\n",
    "    print()\n",
    "    print('---- Prediction ----')\n",
    "    for w_t, w_s in zip(translation.split(), standard.split()):\n",
    "        if w_t == w_s:\n",
    "            print('\\033[0;30;0m','{}'.format(w_t), end='')\n",
    "        else:\n",
    "            print('\\033[0;31;47m', w_t, end='')\n",
    "    print()"
   ]
  },
  {
   "cell_type": "code",
   "execution_count": 57,
   "metadata": {},
   "outputs": [
    {
     "name": "stdout",
     "output_type": "stream",
     "text": [
      "---- Original ----\n",
      "new jersey is sometimes quiet during autumn and it is snowy in april\n",
      "\n",
      "---- Gold standard ----\n",
      "new jersey est parfois calme pendant l' automne et il est neigeux en avril\n",
      "\n",
      "---- Prediction ----\n",
      "\u001b[0;30;0m new\u001b[0;30;0m jersey\u001b[0;30;0m est\u001b[0;30;0m parfois\u001b[0;30;0m calme\u001b[0;31;47m en\u001b[0;30;0m l'\u001b[0;31;47m et\u001b[0;31;47m il\u001b[0;31;47m est\u001b[0;30;0m est\u001b[0;31;47m en\u001b[0;30;0m en\n"
     ]
    }
   ],
   "source": [
    "# Print prediction(s)\n",
    "print('---- Original ----')\n",
    "print(' '.join(token_to_words(tmp_x[:1][0][:,0],english_tokenizer) ))\n",
    "print()\n",
    "translate(simple_rnn_model.predict(tmp_x[:1]), preproc_french_sentences[:1])"
   ]
  },
  {
   "cell_type": "markdown",
   "metadata": {},
   "source": [
    "### Model 2: Embedding (IMPLEMENTATION)\n",
    "![RNN](images/embedding.png)\n",
    "You've turned the words into ids, but there's a better representation of a word.  This is called word embeddings.  An embedding is a vector representation of the word that is close to similar words in n-dimensional space, where the n represents the size of the embedding vectors.\n",
    "\n",
    "In this model, you'll create a RNN model using embedding."
   ]
  },
  {
   "cell_type": "markdown",
   "metadata": {},
   "source": [
    "#### Inputs/Outputs shape embedding RNN\n",
    "- Input shape to Embedding layer (batchsize, input_length ie timesteps). the timesteps = length of the sequences\n",
    "- Input to the Embedding layer is vector of vocab_size for each token, converted into vector of embed_dim size\n",
    "- Embeddings output_shape is (None, sequence_length, embbed_dim). This is 3D expected by LSTM !\n",
    "- output shape LSTM (None, timesteps = sequence_length, num_units). Return_sequence activated to return output at each timestep\n",
    "- Use of TimeDistributed wrapper over Dense(target_vocab_size) to process each timestep\n",
    "- for each time step, Dense outputs a probability distribution over target_vocab to predict next word"
   ]
  },
  {
   "cell_type": "code",
   "execution_count": 54,
   "metadata": {
    "scrolled": false
   },
   "outputs": [
    {
     "name": "stdout",
     "output_type": "stream",
     "text": [
      "_________________________________________________________________\n",
      "Layer (type)                 Output Shape              Param #   \n",
      "=================================================================\n",
      "input_layer (InputLayer)     (None, 21)                0         \n",
      "_________________________________________________________________\n",
      "Embedding_layer (Embedding)  (None, 21, 256)           51200     \n",
      "_________________________________________________________________\n",
      "LSTM_layer (LSTM)            (None, 21, 64)            82176     \n",
      "_________________________________________________________________\n",
      "Dense_layer (TimeDistributed (None, 21, 345)           22425     \n",
      "=================================================================\n",
      "Total params: 155,801\n",
      "Trainable params: 155,801\n",
      "Non-trainable params: 0\n",
      "_________________________________________________________________\n",
      "Train on 110288 samples, validate on 27573 samples\n",
      "Epoch 1/20\n",
      "110288/110288 [==============================] - 11s 101us/step - loss: 3.5813 - acc: 0.4027 - val_loss: 2.7548 - val_acc: 0.4216\n",
      "Epoch 2/20\n",
      "110288/110288 [==============================] - 10s 87us/step - loss: 2.4574 - acc: 0.4801 - val_loss: 2.0928 - val_acc: 0.5303\n",
      "Epoch 3/20\n",
      "110288/110288 [==============================] - 10s 87us/step - loss: 1.7801 - acc: 0.5890 - val_loss: 1.5157 - val_acc: 0.6394\n",
      "Epoch 4/20\n",
      "110288/110288 [==============================] - 9s 86us/step - loss: 1.3149 - acc: 0.6785 - val_loss: 1.1276 - val_acc: 0.7189\n",
      "Epoch 5/20\n",
      "110288/110288 [==============================] - 9s 86us/step - loss: 0.9937 - acc: 0.7492 - val_loss: 0.8809 - val_acc: 0.7737\n",
      "Epoch 6/20\n",
      "110288/110288 [==============================] - 10s 87us/step - loss: 0.8112 - acc: 0.7853 - val_loss: 0.7473 - val_acc: 0.7968\n",
      "Epoch 7/20\n",
      "110288/110288 [==============================] - 10s 87us/step - loss: 0.7056 - acc: 0.8055 - val_loss: 0.6636 - val_acc: 0.8141\n",
      "Epoch 8/20\n",
      "110288/110288 [==============================] - 10s 86us/step - loss: 0.6330 - acc: 0.8201 - val_loss: 0.6026 - val_acc: 0.8281\n",
      "Epoch 9/20\n",
      "110288/110288 [==============================] - 9s 86us/step - loss: 0.5781 - acc: 0.8326 - val_loss: 0.5516 - val_acc: 0.8397\n",
      "Epoch 10/20\n",
      "110288/110288 [==============================] - 10s 87us/step - loss: 0.5342 - acc: 0.8438 - val_loss: 0.5138 - val_acc: 0.8489\n",
      "Epoch 11/20\n",
      "110288/110288 [==============================] - 10s 88us/step - loss: 0.5007 - acc: 0.8525 - val_loss: 0.4848 - val_acc: 0.8561\n",
      "Epoch 12/20\n",
      "110288/110288 [==============================] - 10s 86us/step - loss: 0.4695 - acc: 0.8611 - val_loss: 0.4555 - val_acc: 0.8652\n",
      "Epoch 13/20\n",
      "110288/110288 [==============================] - 10s 86us/step - loss: 0.4449 - acc: 0.8678 - val_loss: 0.4341 - val_acc: 0.8701\n",
      "Epoch 14/20\n",
      "110288/110288 [==============================] - 10s 87us/step - loss: 0.4243 - acc: 0.8735 - val_loss: 0.4154 - val_acc: 0.8760\n",
      "Epoch 15/20\n",
      "110288/110288 [==============================] - 10s 86us/step - loss: 0.4048 - acc: 0.8791 - val_loss: 0.3977 - val_acc: 0.8811\n",
      "Epoch 16/20\n",
      "110288/110288 [==============================] - 10s 86us/step - loss: 0.3894 - acc: 0.8838 - val_loss: 0.3859 - val_acc: 0.8838\n",
      "Epoch 17/20\n",
      "110288/110288 [==============================] - 10s 86us/step - loss: 0.3752 - acc: 0.8880 - val_loss: 0.3704 - val_acc: 0.8885\n",
      "Epoch 18/20\n",
      "110288/110288 [==============================] - 9s 86us/step - loss: 0.3621 - acc: 0.8918 - val_loss: 0.3576 - val_acc: 0.8936\n",
      "Epoch 19/20\n",
      "110288/110288 [==============================] - 10s 87us/step - loss: 0.3504 - acc: 0.8950 - val_loss: 0.3453 - val_acc: 0.8962\n",
      "Epoch 20/20\n",
      "110288/110288 [==============================] - 9s 86us/step - loss: 0.3394 - acc: 0.8979 - val_loss: 0.3383 - val_acc: 0.8982\n"
     ]
    },
    {
     "data": {
      "text/plain": [
       "<keras.callbacks.History at 0x7fb8750f1d68>"
      ]
     },
     "execution_count": 54,
     "metadata": {},
     "output_type": "execute_result"
    }
   ],
   "source": [
    "def embed_model(input_shape, output_sequence_length, english_vocab_size, french_vocab_size):\n",
    "    \"\"\"\n",
    "    Build and train a RNN model using word embedding on x and y\n",
    "    :param input_shape: Tuple of input shape\n",
    "    :param output_sequence_length: Length of output sequence\n",
    "    :param english_vocab_size: Number of unique English words in the dataset\n",
    "    :param french_vocab_size: Number of unique French words in the dataset\n",
    "    :return: Keras model built, but not trained\n",
    "    \"\"\"\n",
    "    # TODO: Implement\n",
    "    \n",
    "    learning_rate = 0.001\n",
    "    embedding_size = 256\n",
    "    \n",
    "    english_input = Input(shape=input_shape[1:], name=\"input_layer\")   # Input shape (,seq_length)\n",
    "    \n",
    "    embeddings = Embedding(input_dim = english_vocab_size, output_dim = embedding_size, \n",
    "                           input_length= output_sequence_length, name=\"Embedding_layer\")(english_input)\n",
    "    \n",
    "    x = LSTM(64, return_sequences=True, activation=\"tanh\", name=\"LSTM_layer\")(embeddings)\n",
    "    \n",
    "    preds = TimeDistributed(Dense(french_vocab_size, activation=\"softmax\"), name=\"Dense_layer\")(x)\n",
    "    \n",
    "    model = Model(inputs=english_input, outputs=preds, name='Embedding_LSTM')\n",
    "    \n",
    "    model.compile(loss=sparse_categorical_crossentropy,\n",
    "                  optimizer=Adam(learning_rate),\n",
    "                  metrics=['accuracy'])\n",
    "    \n",
    "    return model\n",
    "\n",
    "tests.test_embed_model(embed_model)\n",
    "\n",
    "# TODO: Reshape the input\n",
    "tmp_x = pad(preproc_english_sentences, max_french_sequence_length)\n",
    "tmp_x = tmp_x.reshape((-1, preproc_french_sentences.shape[-2]))    # reshaped to (batchsize, seq_length) for Embedding input\n",
    "\n",
    "# Train the neural network\n",
    "embed_rnn_model = embed_model(\n",
    "    tmp_x.shape,\n",
    "    max_french_sequence_length,\n",
    "    english_vocab_size,\n",
    "    french_vocab_size)\n",
    "\n",
    "embed_rnn_model.summary()\n",
    "    \n",
    "embed_rnn_model.fit(tmp_x, preproc_french_sentences, batch_size=1024, epochs=20, validation_split=0.2)"
   ]
  },
  {
   "cell_type": "code",
   "execution_count": 55,
   "metadata": {},
   "outputs": [
    {
     "name": "stdout",
     "output_type": "stream",
     "text": [
      "---- Original ----\n",
      "new jersey is sometimes quiet during autumn and it is snowy in april\n",
      "\n",
      "---- Gold standard ----\n",
      "new jersey est parfois calme pendant l' automne et il est neigeux en avril\n",
      "\n",
      "---- Prediction ----\n",
      "\u001b[0;30;0m new\u001b[0;30;0m jersey\u001b[0;30;0m est\u001b[0;30;0m parfois\u001b[0;30;0m calme\u001b[0;31;47m en\u001b[0;30;0m l'\u001b[0;31;47m et\u001b[0;31;47m il\u001b[0;31;47m est\u001b[0;30;0m est\u001b[0;30;0m neigeux\u001b[0;30;0m en\u001b[0;30;0m avril\n"
     ]
    }
   ],
   "source": [
    "# Print prediction(s)\n",
    "print('---- Original ----')\n",
    "print(' '.join(token_to_words(tmp_x[:1][0],english_tokenizer) ))\n",
    "print()\n",
    "translate(embed_rnn_model.predict(tmp_x[:1]), preproc_french_sentences[:1])"
   ]
  },
  {
   "cell_type": "markdown",
   "metadata": {},
   "source": [
    "### Model 3: Bidirectional RNNs (IMPLEMENTATION)\n",
    "![RNN](images/bidirectional.png)\n",
    "One restriction of a RNN is that it can't see the future input, only the past.  This is where bidirectional recurrent neural networks come in.  They are able to see the future data."
   ]
  },
  {
   "cell_type": "markdown",
   "metadata": {},
   "source": [
    "#### Inputs/Outputs shape Bidirectional RNN\n",
    "- LSTM or GRU Input shape (batchsize, timesteps, 1). The timesteps is the length of the input sequences (15 for en, 21 for fr)\n",
    "- output shape Bidir-LSTM (None, timesteps = sequence_length, 2 x num_units) because both outputs are concatenated.\n",
    "- Return_sequence activated to return output at each timestep\n",
    "- Use of TimeDistributed wrapper over Dense(target_vocab_size) to process each timestep\n",
    "- for each time step, Dense outputs a probability distribution over target_vocab to predict next word"
   ]
  },
  {
   "cell_type": "code",
   "execution_count": 51,
   "metadata": {
    "scrolled": false
   },
   "outputs": [
    {
     "name": "stdout",
     "output_type": "stream",
     "text": [
      "_________________________________________________________________\n",
      "Layer (type)                 Output Shape              Param #   \n",
      "=================================================================\n",
      "input_16 (InputLayer)        (None, 21, 1)             0         \n",
      "_________________________________________________________________\n",
      "bidirectional_7 (Bidirection (None, 21, 128)           33792     \n",
      "_________________________________________________________________\n",
      "Dense_layer (TimeDistributed (None, 21, 345)           44505     \n",
      "=================================================================\n",
      "Total params: 78,297\n",
      "Trainable params: 78,297\n",
      "Non-trainable params: 0\n",
      "_________________________________________________________________\n",
      "Train on 110288 samples, validate on 27573 samples\n",
      "Epoch 1/20\n",
      "110288/110288 [==============================] - 14s 122us/step - loss: 3.2011 - acc: 0.4503 - val_loss: 2.1757 - val_acc: 0.5025\n",
      "Epoch 2/20\n",
      "110288/110288 [==============================] - 12s 108us/step - loss: 1.9134 - acc: 0.5493 - val_loss: 1.7154 - val_acc: 0.5757\n",
      "Epoch 3/20\n",
      "110288/110288 [==============================] - 12s 108us/step - loss: 1.6146 - acc: 0.5889 - val_loss: 1.5356 - val_acc: 0.6054\n",
      "Epoch 4/20\n",
      "110288/110288 [==============================] - 12s 107us/step - loss: 1.4832 - acc: 0.6115 - val_loss: 1.4358 - val_acc: 0.6202\n",
      "Epoch 5/20\n",
      "110288/110288 [==============================] - 12s 108us/step - loss: 1.3985 - acc: 0.6250 - val_loss: 1.3620 - val_acc: 0.6306\n",
      "Epoch 6/20\n",
      "110288/110288 [==============================] - 12s 109us/step - loss: 1.3338 - acc: 0.6342 - val_loss: 1.3078 - val_acc: 0.6370\n",
      "Epoch 7/20\n",
      "110288/110288 [==============================] - 12s 108us/step - loss: 1.2850 - acc: 0.6419 - val_loss: 1.2639 - val_acc: 0.6470\n",
      "Epoch 8/20\n",
      "110288/110288 [==============================] - 12s 107us/step - loss: 1.2472 - acc: 0.6494 - val_loss: 1.2313 - val_acc: 0.6540\n",
      "Epoch 9/20\n",
      "110288/110288 [==============================] - 12s 108us/step - loss: 1.2159 - acc: 0.6558 - val_loss: 1.2034 - val_acc: 0.6587\n",
      "Epoch 10/20\n",
      "110288/110288 [==============================] - 12s 108us/step - loss: 1.1893 - acc: 0.6602 - val_loss: 1.1765 - val_acc: 0.6620\n",
      "Epoch 11/20\n",
      "110288/110288 [==============================] - 12s 107us/step - loss: 1.1652 - acc: 0.6651 - val_loss: 1.1546 - val_acc: 0.6679\n",
      "Epoch 12/20\n",
      "110288/110288 [==============================] - 12s 108us/step - loss: 1.1423 - acc: 0.6684 - val_loss: 1.1324 - val_acc: 0.6705\n",
      "Epoch 13/20\n",
      "110288/110288 [==============================] - 12s 108us/step - loss: 1.1220 - acc: 0.6716 - val_loss: 1.1124 - val_acc: 0.6742\n",
      "Epoch 14/20\n",
      "110288/110288 [==============================] - 12s 107us/step - loss: 1.1024 - acc: 0.6747 - val_loss: 1.0944 - val_acc: 0.6760\n",
      "Epoch 15/20\n",
      "110288/110288 [==============================] - 12s 108us/step - loss: 1.0847 - acc: 0.6787 - val_loss: 1.0762 - val_acc: 0.6811\n",
      "Epoch 16/20\n",
      "110288/110288 [==============================] - 12s 108us/step - loss: 1.0688 - acc: 0.6813 - val_loss: 1.0624 - val_acc: 0.6818\n",
      "Epoch 17/20\n",
      "110288/110288 [==============================] - 12s 108us/step - loss: 1.0543 - acc: 0.6841 - val_loss: 1.0505 - val_acc: 0.6853\n",
      "Epoch 18/20\n",
      "110288/110288 [==============================] - 12s 108us/step - loss: 1.0411 - acc: 0.6860 - val_loss: 1.0370 - val_acc: 0.6864\n",
      "Epoch 19/20\n",
      "110288/110288 [==============================] - 12s 108us/step - loss: 1.0285 - acc: 0.6881 - val_loss: 1.0220 - val_acc: 0.6891\n",
      "Epoch 20/20\n",
      "110288/110288 [==============================] - 12s 108us/step - loss: 1.0167 - acc: 0.6903 - val_loss: 1.0123 - val_acc: 0.6909\n"
     ]
    },
    {
     "data": {
      "text/plain": [
       "<keras.callbacks.History at 0x7fb87675dbe0>"
      ]
     },
     "execution_count": 51,
     "metadata": {},
     "output_type": "execute_result"
    }
   ],
   "source": [
    "def bd_model(input_shape, output_sequence_length, english_vocab_size, french_vocab_size):\n",
    "    \"\"\"\n",
    "    Build and train a bidirectional RNN model on x and y\n",
    "    :param input_shape: Tuple of input shape\n",
    "    :param output_sequence_length: Length of output sequence\n",
    "    :param english_vocab_size: Number of unique English words in the dataset\n",
    "    :param french_vocab_size: Number of unique French words in the dataset\n",
    "    :return: Keras model built, but not trained\n",
    "    \"\"\"\n",
    "    # TODO: Implement\n",
    "    \n",
    "    learning_rate = 0.001\n",
    "    embedding_size = 256\n",
    "    \n",
    "    english_input = Input(shape=input_shape[1:], name=\"input_layer\")  # input to LSTM shape (batch, seq_length, 1)\n",
    "    \n",
    "    x = Bidirectional(LSTM(64, return_sequences=True, activation=\"tanh\", name=\"Bidir_LSTM_layer\"), input_shape=input_shape[1:])(english_input)\n",
    "    \n",
    "    preds = TimeDistributed(Dense(french_vocab_size, activation=\"softmax\"), name=\"Dense_layer\")(x)\n",
    "    \n",
    "    model = Model(inputs=english_input, outputs=preds, name='Bidir_LSTM')\n",
    "    \n",
    "    model.compile(loss=sparse_categorical_crossentropy,\n",
    "                  optimizer=Adam(learning_rate),\n",
    "                  metrics=['accuracy'])\n",
    "    \n",
    "    return model\n",
    "\n",
    "tests.test_bd_model(bd_model)\n",
    "\n",
    "# TODO: Train and Print prediction(s)\n",
    "\n",
    "# TODO: Reshape the input\n",
    "tmp_x = pad(preproc_english_sentences, max_french_sequence_length)\n",
    "tmp_x = tmp_x.reshape((-1, preproc_french_sentences.shape[-2],1))  # reshape to (batch, seq_length, 1) for LSTM input\n",
    "\n",
    "# Train the neural network\n",
    "bd_rnn_model = bd_model(\n",
    "                        tmp_x.shape,\n",
    "                        max_french_sequence_length,\n",
    "                        english_vocab_size,\n",
    "                        french_vocab_size)\n",
    "\n",
    "bd_rnn_model.summary()\n",
    "    \n",
    "bd_rnn_model.fit(tmp_x, preproc_french_sentences, batch_size=1024, epochs=20, validation_split=0.2)"
   ]
  },
  {
   "cell_type": "code",
   "execution_count": 53,
   "metadata": {},
   "outputs": [
    {
     "name": "stdout",
     "output_type": "stream",
     "text": [
      "---- Original ----\n",
      "new jersey is sometimes quiet during autumn and it is snowy in april\n",
      "\n",
      "---- Gold standard ----\n",
      "new jersey est parfois calme pendant l' automne et il est neigeux en avril\n",
      "\n",
      "---- Prediction ----\n",
      "\u001b[0;30;0m new\u001b[0;30;0m jersey\u001b[0;30;0m est\u001b[0;30;0m parfois\u001b[0;30;0m calme\u001b[0;31;47m en\u001b[0;30;0m l'\u001b[0;31;47m et\u001b[0;31;47m il\u001b[0;31;47m est\u001b[0;30;0m est\u001b[0;31;47m en\u001b[0;30;0m en\n"
     ]
    }
   ],
   "source": [
    "# Print prediction(s)\n",
    "print('---- Original ----')\n",
    "print(' '.join(token_to_words(tmp_x[:1][0][:,0],english_tokenizer) ))\n",
    "print()\n",
    "translate(bd_rnn_model.predict(tmp_x[:1]), preproc_french_sentences[:1])"
   ]
  },
  {
   "cell_type": "markdown",
   "metadata": {},
   "source": [
    "### Model 3 bis: Embedding Bidirectional RNNs (IMPLEMENTATION)\n",
    "\n",
    "#### Inputs/Outputs shape Embedding Bidirectional RNN\n",
    "- Embedding requires input shape (batchsize, input_length) and outputs (batchsize, input_length, embedded_dim)\n",
    "- this shape is OK for input to LSTM (3D)\n",
    "- LSTM or GRU Input shape (batchsize, timesteps, embedded_dim). Return_sequence activated to return output at each timestep\n",
    "- output shape Bidir-LSTM (None, timesteps = sequence_length, 2 x LSTM num_units) because both outputs are concatenated.\n",
    "- Use of TimeDistributed wrapper over Dense(target_vocab_size) to process each timestep\n",
    "- for each time step, Dense outputs a probability distribution over target_vocab to predict next word"
   ]
  },
  {
   "cell_type": "code",
   "execution_count": 16,
   "metadata": {
    "scrolled": false
   },
   "outputs": [
    {
     "name": "stdout",
     "output_type": "stream",
     "text": [
      "_________________________________________________________________\n",
      "Layer (type)                 Output Shape              Param #   \n",
      "=================================================================\n",
      "input_layer (InputLayer)     (None, 21)                0         \n",
      "_________________________________________________________________\n",
      "Embedding_layer (Embedding)  (None, 21, 256)           51200     \n",
      "_________________________________________________________________\n",
      "Bidir_LSTM_layer (Bidirectio (None, 21, 128)           164352    \n",
      "_________________________________________________________________\n",
      "Dense_layer (TimeDistributed (None, 21, 345)           44505     \n",
      "=================================================================\n",
      "Total params: 260,057\n",
      "Trainable params: 260,057\n",
      "Non-trainable params: 0\n",
      "_________________________________________________________________\n",
      "Train on 110288 samples, validate on 27573 samples\n",
      "Epoch 1/20\n",
      "110288/110288 [==============================] - 16s 147us/step - loss: 3.1838 - acc: 0.4493 - val_loss: 2.3086 - val_acc: 0.5024\n",
      "Epoch 2/20\n",
      "110288/110288 [==============================] - 15s 140us/step - loss: 1.9231 - acc: 0.5514 - val_loss: 1.5676 - val_acc: 0.6169\n",
      "Epoch 3/20\n",
      "110288/110288 [==============================] - 15s 140us/step - loss: 1.2851 - acc: 0.6733 - val_loss: 1.0448 - val_acc: 0.7259\n",
      "Epoch 4/20\n",
      "110288/110288 [==============================] - 15s 140us/step - loss: 0.9042 - acc: 0.7582 - val_loss: 0.7910 - val_acc: 0.7809\n",
      "Epoch 5/20\n",
      "110288/110288 [==============================] - 16s 141us/step - loss: 0.7210 - acc: 0.7979 - val_loss: 0.6566 - val_acc: 0.8135\n",
      "Epoch 6/20\n",
      "110288/110288 [==============================] - 15s 140us/step - loss: 0.6096 - acc: 0.8245 - val_loss: 0.5632 - val_acc: 0.8367\n",
      "Epoch 7/20\n",
      "110288/110288 [==============================] - 15s 140us/step - loss: 0.5296 - acc: 0.8470 - val_loss: 0.5010 - val_acc: 0.8564\n",
      "Epoch 8/20\n",
      "110288/110288 [==============================] - 15s 140us/step - loss: 0.4720 - acc: 0.8639 - val_loss: 0.4467 - val_acc: 0.8713\n",
      "Epoch 9/20\n",
      "110288/110288 [==============================] - 15s 140us/step - loss: 0.4270 - acc: 0.8765 - val_loss: 0.4087 - val_acc: 0.8815\n",
      "Epoch 10/20\n",
      "110288/110288 [==============================] - 15s 140us/step - loss: 0.3924 - acc: 0.8860 - val_loss: 0.3770 - val_acc: 0.8901\n",
      "Epoch 11/20\n",
      "110288/110288 [==============================] - 16s 141us/step - loss: 0.3632 - acc: 0.8945 - val_loss: 0.3538 - val_acc: 0.8963\n",
      "Epoch 12/20\n",
      "110288/110288 [==============================] - 16s 141us/step - loss: 0.3383 - acc: 0.9020 - val_loss: 0.3285 - val_acc: 0.9056\n",
      "Epoch 13/20\n",
      "110288/110288 [==============================] - 16s 141us/step - loss: 0.3168 - acc: 0.9089 - val_loss: 0.3133 - val_acc: 0.9100\n",
      "Epoch 14/20\n",
      "110288/110288 [==============================] - 15s 140us/step - loss: 0.2976 - acc: 0.9147 - val_loss: 0.2935 - val_acc: 0.9159\n",
      "Epoch 15/20\n",
      "110288/110288 [==============================] - 16s 141us/step - loss: 0.2824 - acc: 0.9191 - val_loss: 0.2776 - val_acc: 0.9207\n",
      "Epoch 16/20\n",
      "110288/110288 [==============================] - 16s 141us/step - loss: 0.2672 - acc: 0.9238 - val_loss: 0.2663 - val_acc: 0.9244\n",
      "Epoch 17/20\n",
      "110288/110288 [==============================] - 16s 141us/step - loss: 0.2552 - acc: 0.9272 - val_loss: 0.2535 - val_acc: 0.9284\n",
      "Epoch 18/20\n",
      "110288/110288 [==============================] - 16s 141us/step - loss: 0.2429 - acc: 0.9311 - val_loss: 0.2424 - val_acc: 0.9310\n",
      "Epoch 19/20\n",
      "110288/110288 [==============================] - 16s 142us/step - loss: 0.2324 - acc: 0.9339 - val_loss: 0.2362 - val_acc: 0.9320\n",
      "Epoch 20/20\n",
      "110288/110288 [==============================] - 16s 142us/step - loss: 0.2224 - acc: 0.9370 - val_loss: 0.2253 - val_acc: 0.9359\n"
     ]
    },
    {
     "data": {
      "text/plain": [
       "<keras.callbacks.History at 0x7fb67cc782e8>"
      ]
     },
     "execution_count": 16,
     "metadata": {},
     "output_type": "execute_result"
    }
   ],
   "source": [
    "def emb_bd_model(input_shape, output_sequence_length, english_vocab_size, french_vocab_size):\n",
    "    \"\"\"\n",
    "    Build and train a bidirectional RNN model on x and y\n",
    "    :param input_shape: Tuple of input shape\n",
    "    :param output_sequence_length: Length of output sequence\n",
    "    :param english_vocab_size: Number of unique English words in the dataset\n",
    "    :param french_vocab_size: Number of unique French words in the dataset\n",
    "    :return: Keras model built, but not trained\n",
    "    \"\"\"\n",
    "    # TODO: Implement\n",
    "    \n",
    "    learning_rate = 0.001\n",
    "    embedding_size = 256\n",
    "    \n",
    "    english_input = Input(shape=input_shape[1:], name=\"input_layer\")  # Embedding input (batch, seq_length)\n",
    "    \n",
    "    embeddings = Embedding(input_dim = english_vocab_size, output_dim = embedding_size, \n",
    "                           input_length= output_sequence_length, name=\"Embedding_layer\")(english_input)\n",
    "    \n",
    "    # input shape to LSTM (batchsize, seq_length, embedding_dim) output shape: (batchsize, seq_length, units=64x2)\n",
    "    x = Bidirectional(LSTM(64, return_sequences=True, activation=\"tanh\"), name=\"Bidir_LSTM_layer\")(embeddings)\n",
    "    \n",
    "    preds = TimeDistributed(Dense(french_vocab_size, activation=\"softmax\"), name=\"Dense_layer\")(x)\n",
    "    \n",
    "    model = Model(inputs=english_input, outputs=preds, name='Embedding_Bidir_LSTM')\n",
    "    \n",
    "    model.compile(loss=sparse_categorical_crossentropy,\n",
    "                  optimizer=Adam(learning_rate),\n",
    "                  metrics=['accuracy'])\n",
    "   \n",
    "    return model\n",
    "\n",
    "#tests.test_bd_model(bd_model)\n",
    "\n",
    "# TODO: Train and Print prediction(s)\n",
    "\n",
    "# TODO: Reshape the input\n",
    "tmp_x = pad(preproc_english_sentences, max_french_sequence_length)\n",
    "tmp_x = tmp_x.reshape((-1, preproc_french_sentences.shape[-2]))    # reshapped for Embedding input (batch, seq_length)\n",
    "\n",
    "# Train the neural network\n",
    "emb_bd_rnn_model = emb_bd_model(\n",
    "                        tmp_x.shape,\n",
    "                        max_french_sequence_length,\n",
    "                        english_vocab_size,\n",
    "                        french_vocab_size)\n",
    "\n",
    "emb_bd_rnn_model.summary()\n",
    "\n",
    "emb_bd_rnn_model.fit(tmp_x, preproc_french_sentences, batch_size=1024, epochs=20, validation_split=0.2)"
   ]
  },
  {
   "cell_type": "code",
   "execution_count": 17,
   "metadata": {},
   "outputs": [
    {
     "name": "stdout",
     "output_type": "stream",
     "text": [
      "---- Original ----\n",
      "new jersey is sometimes quiet during autumn and it is snowy in april\n",
      "\n",
      "---- Gold standard ----\n",
      "new jersey est parfois calme pendant l' automne et il est neigeux en avril\n",
      "\n",
      "---- Prediction ----\n",
      "\u001b[0;30;0m new\u001b[0;30;0m jersey\u001b[0;30;0m est\u001b[0;30;0m parfois\u001b[0;30;0m calme\u001b[0;31;47m au\u001b[0;30;0m l'\u001b[0;30;0m automne\u001b[0;31;47m il\u001b[0;31;47m et\u001b[0;30;0m est\u001b[0;30;0m neigeux\u001b[0;30;0m en\u001b[0;30;0m avril\n"
     ]
    }
   ],
   "source": [
    "# Print prediction(s)\n",
    "print('---- Original ----')\n",
    "print(' '.join(token_to_words(tmp_x[:1][0],english_tokenizer) ))\n",
    "print()\n",
    "translate(emb_bd_rnn_model.predict(tmp_x[:1]), preproc_french_sentences[:1])"
   ]
  },
  {
   "cell_type": "markdown",
   "metadata": {},
   "source": [
    "## Model 4: Encoder-Decoder (OPTIONAL)\n",
    "Time to look at encoder-decoder models.  This model is made up of an encoder and decoder. The encoder creates a matrix representation of the sentence.  The decoder takes this matrix as input and predicts the translation as output.\n",
    "\n",
    "Create an encoder-decoder model in the cell below."
   ]
  },
  {
   "cell_type": "markdown",
   "metadata": {},
   "source": [
    "### LSTM Encoder-Decoder Architectures using RepeatVector\n",
    "\n",
    "https://machinelearningmastery.com/encoder-decoder-long-short-term-memory-networks/\n",
    "\n",
    "https://machinelearningmastery.com/configure-encoder-decoder-model-neural-machine-translation/\n",
    "\n",
    "- Encoder: One or more LSTM layers can be used to implement the encoder model. The output of this model is a fixed-size vector that represents the internal representation of the input sequence. The number of memory cells in this layer defines the length of this fixed-sized vector.\n",
    "\n",
    "- Decoder: The decoder must transform the learned internal representation of the input sequence into the correct output sequence. One or more LSTM layers can also be used to implement the decoder model. This model reads from the fixed sized output from the encoder model.\n",
    "\n",
    "**Issue**: We must connect the encoder to the decoder, and they do not fit. That is, the encoder will produce a 2-dimensional matrix of outputs, where the length is defined by the number of memory cells in the layer. The decoder is an LSTM layer that expects a 3D input of [samples, time steps, features] in order to produce a decoded sequence of some different length defined by the problem.\n",
    "\n",
    "We can solve this using a `RepeatVector` layer. This layer simply repeats the provided 2D input multiple times to create a 3D output. The RepeatVector layer can be used like an adapter to fit the encoder and decoder parts of the network together. We can configure the RepeatVector to repeat the fixed length vector one time for each time step in the output sequence."
   ]
  },
  {
   "cell_type": "markdown",
   "metadata": {},
   "source": [
    "#### Simplified LSTM Encoder Decoder using recommended structure\n",
    "- https://machinelearningmastery.com/configure-encoder-decoder-model-neural-machine-translation/\n",
    "- Encoder: Bidirectional (2 units)\n",
    "- Decoder: 2 units"
   ]
  },
  {
   "cell_type": "code",
   "execution_count": 15,
   "metadata": {},
   "outputs": [
    {
     "name": "stdout",
     "output_type": "stream",
     "text": [
      "_________________________________________________________________\n",
      "Layer (type)                 Output Shape              Param #   \n",
      "=================================================================\n",
      "input_Encoder (InputLayer)   (None, 21)                0         \n",
      "_________________________________________________________________\n",
      "Embedding_layer (Embedding)  (None, 21, 300)           59700     \n",
      "_________________________________________________________________\n",
      "Bidir_Encoder (Bidirectional (None, 512)               1140736   \n",
      "_________________________________________________________________\n",
      "repeat_vector_1 (RepeatVecto (None, 21, 512)           0         \n",
      "_________________________________________________________________\n",
      "LSTM_layer1 (LSTM)           (None, 21, 256)           787456    \n",
      "_________________________________________________________________\n",
      "LSTM_layer2 (LSTM)           (None, 21, 256)           525312    \n",
      "_________________________________________________________________\n",
      "Dense_layer (TimeDistributed (None, 21, 344)           88408     \n",
      "=================================================================\n",
      "Total params: 2,601,612\n",
      "Trainable params: 2,601,612\n",
      "Non-trainable params: 0\n",
      "_________________________________________________________________\n",
      "Train on 110288 samples, validate on 27573 samples\n",
      "Epoch 1/15\n",
      "110288/110288 [==============================] - 55s 495us/step - loss: 2.9942 - acc: 0.4531 - val_loss: nan - val_acc: 0.5209\n",
      "Epoch 2/15\n",
      "110288/110288 [==============================] - 53s 483us/step - loss: 1.7983 - acc: 0.5600 - val_loss: nan - val_acc: 0.5741\n",
      "Epoch 3/15\n",
      "110288/110288 [==============================] - 53s 484us/step - loss: 1.2879 - acc: 0.6337 - val_loss: nan - val_acc: 0.6750\n",
      "Epoch 4/15\n",
      "110288/110288 [==============================] - 53s 483us/step - loss: 1.0508 - acc: 0.6926 - val_loss: nan - val_acc: 0.7181\n",
      "Epoch 5/15\n",
      "110288/110288 [==============================] - 53s 484us/step - loss: 0.8329 - acc: 0.7446 - val_loss: nan - val_acc: 0.7696\n",
      "Epoch 6/15\n",
      "110288/110288 [==============================] - 53s 484us/step - loss: 0.6935 - acc: 0.7837 - val_loss: nan - val_acc: 0.7990\n",
      "Epoch 7/15\n",
      "110288/110288 [==============================] - 53s 484us/step - loss: 0.5626 - acc: 0.8208 - val_loss: nan - val_acc: 0.8308\n",
      "Epoch 8/15\n",
      "110288/110288 [==============================] - 53s 484us/step - loss: 0.4743 - acc: 0.8462 - val_loss: nan - val_acc: 0.8620\n",
      "Epoch 9/15\n",
      "110288/110288 [==============================] - 53s 484us/step - loss: 0.3979 - acc: 0.8694 - val_loss: nan - val_acc: 0.8713\n",
      "Epoch 10/15\n",
      "110288/110288 [==============================] - 53s 485us/step - loss: 0.3270 - acc: 0.8931 - val_loss: nan - val_acc: 0.8949\n",
      "Epoch 11/15\n",
      "110288/110288 [==============================] - 53s 484us/step - loss: 0.2622 - acc: 0.9156 - val_loss: nan - val_acc: 0.9269\n",
      "Epoch 12/15\n",
      "110288/110288 [==============================] - 53s 485us/step - loss: 0.2185 - acc: 0.9307 - val_loss: nan - val_acc: 0.9378\n",
      "Epoch 13/15\n",
      "110288/110288 [==============================] - 53s 484us/step - loss: 0.1984 - acc: 0.9373 - val_loss: nan - val_acc: 0.9443\n",
      "Epoch 14/15\n",
      "110288/110288 [==============================] - 53s 484us/step - loss: 0.1545 - acc: 0.9517 - val_loss: nan - val_acc: 0.9524\n",
      "Epoch 15/15\n",
      "110288/110288 [==============================] - 53s 485us/step - loss: 0.1413 - acc: 0.9558 - val_loss: nan - val_acc: 0.9546\n"
     ]
    },
    {
     "data": {
      "text/plain": [
       "<keras.callbacks.History at 0x7f3a5e34a588>"
      ]
     },
     "execution_count": 15,
     "metadata": {},
     "output_type": "execute_result"
    }
   ],
   "source": [
    "def encdec_model2(input_shape, output_sequence_length, english_vocab_size, french_vocab_size):\n",
    "    \"\"\"\n",
    "    Build and train an encoder-decoder model on x and y\n",
    "    :param input_shape: Tuple of input shape\n",
    "    :param output_sequence_length: Length of output sequence\n",
    "    :param english_vocab_size: Number of unique English words in the dataset\n",
    "    :param french_vocab_size: Number of unique French words in the dataset\n",
    "    :return: Keras model built, but not trained\n",
    "    \"\"\"\n",
    "    # OPTIONAL: Implement\n",
    "    \n",
    "    learning_rate = 0.001\n",
    "    embedding_size = 300\n",
    "    num_units = 256\n",
    "    \n",
    "    ########### ENCODER ###########\n",
    "    encoder_input = Input(shape=input_shape[1:], name=\"input_Encoder\")\n",
    "    \n",
    "    embeddings = Embedding(input_dim = english_vocab_size, output_dim = embedding_size, \n",
    "                           input_length= input_shape[1], name=\"Embedding_layer\")(encoder_input)\n",
    "    \n",
    "    encoder_output = Bidirectional(LSTM(num_units, return_sequences=False, activation=\"relu\"), name=\"Bidir_Encoder\")(embeddings)\n",
    "    # output shape of decoder = (batch , num_units)\n",
    "    \n",
    "    ########### INTERMEDIARY ###########\n",
    "    # This adjusts the shape of the Encoder output (2D) to the need of the Decoder (3D input).\n",
    "    # We repeat the 2D vector over sequence_length times to produce the shape (batchsize, seq_length, LSTM units)\n",
    "    input_decoder = RepeatVector(output_sequence_length)(encoder_output)\n",
    "    \n",
    "    ########### DECODER ###########\n",
    "    decoder_input = Input(shape=input_decoder.shape[:1], name=\"input_Decoder\")\n",
    "    \n",
    "    x = LSTM(num_units, return_sequences=True, activation=\"relu\", name=\"LSTM_layer1\")(input_decoder)\n",
    "    x = LSTM(num_units, return_sequences=True, activation=\"relu\", name=\"LSTM_layer2\")(x)\n",
    "    \n",
    "    preds = TimeDistributed(Dense(french_vocab_size, activation=\"softmax\"), name=\"Dense_layer\")(x)\n",
    "\n",
    "    ########### END-TO-END MODEL ###########\n",
    "    model = Model(inputs=encoder_input, outputs=preds, name='Encdec')\n",
    "    \n",
    "    model.compile(loss=sparse_categorical_crossentropy,\n",
    "                  optimizer=Adam(learning_rate),\n",
    "                  metrics=['accuracy'])\n",
    "    \n",
    "    return model\n",
    "\n",
    "#tests.test_encdec_model(encdec_model2) # commented out to avoid error: english sequences padded to french sequence max length\n",
    "\n",
    "# OPTIONAL: Train and Print prediction(s)\n",
    "\n",
    "# TODO: Reshape the input\n",
    "tmp_x = pad(preproc_english_sentences, max_french_sequence_length)\n",
    "tmp_x = tmp_x.reshape((-1, preproc_french_sentences.shape[-2]))   # reshape for embedding input\n",
    "\n",
    "# Train the neural network\n",
    "enc_dec_model2 = encdec_model2(\n",
    "                        tmp_x.shape,\n",
    "                        max_french_sequence_length,\n",
    "                        english_vocab_size,\n",
    "                        french_vocab_size)\n",
    "\n",
    "enc_dec_model2.summary()\n",
    "\n",
    "enc_dec_model2.fit(tmp_x, preproc_french_sentences, batch_size=1024, epochs=15, validation_split=0.2)\n"
   ]
  },
  {
   "cell_type": "code",
   "execution_count": 16,
   "metadata": {},
   "outputs": [
    {
     "name": "stdout",
     "output_type": "stream",
     "text": [
      "---- Original ----\n",
      "new jersey is sometimes quiet during autumn and it is snowy in april\n",
      "\n",
      "---- Gold standard ----\n",
      "new jersey est parfois calme pendant l' automne et il est neigeux en avril\n",
      "\n",
      "---- Prediction ----\n",
      "\u001b[0;30;0m new\u001b[0;30;0m jersey\u001b[0;30;0m est\u001b[0;30;0m parfois\u001b[0;30;0m calme\u001b[0;30;0m pendant\u001b[0;30;0m l'\u001b[0;31;47m et\u001b[0;30;0m et\u001b[0;30;0m il\u001b[0;30;0m est\u001b[0;31;47m en\u001b[0;30;0m en\u001b[0;30;0m avril\n"
     ]
    }
   ],
   "source": [
    "print('---- Original ----')\n",
    "print(' '.join(token_to_words(tmp_x[:1][0],english_tokenizer) ))\n",
    "print()\n",
    "translate(enc_dec_model2.predict(tmp_x[:1]), preproc_french_sentences[:1])"
   ]
  },
  {
   "cell_type": "markdown",
   "metadata": {},
   "source": [
    "### Savings weights of Encoder Decoder model"
   ]
  },
  {
   "cell_type": "code",
   "execution_count": 17,
   "metadata": {},
   "outputs": [],
   "source": [
    "# Save the weights\n",
    "enc_dec_model2.save_weights('model_encdec_LSTM')\n",
    "\n",
    "# Create a new model instance\n",
    "#model = create_model()\n",
    "\n",
    "# Restore the weights\n",
    "#model.load_weights('./saved_model/final_model_3')\n",
    "\n",
    "# Save the entire model as a SavedModel.\n",
    "!mkdir -p saved_model\n",
    "enc_dec_model2.save('saved_model/model_encdec_LSTM_full')\n",
    "\n",
    "# load saved model\n",
    "#model = tf.keras.models.load_model('saved_model/my_model')\n",
    "\n",
    "# Check its architecture\n",
    "#model.summary()"
   ]
  },
  {
   "cell_type": "markdown",
   "metadata": {},
   "source": [
    "### LSTM with higher number of units\n",
    "- Better results vs shallower version above but requires significantly more training"
   ]
  },
  {
   "cell_type": "code",
   "execution_count": 21,
   "metadata": {},
   "outputs": [
    {
     "name": "stdout",
     "output_type": "stream",
     "text": [
      "_________________________________________________________________\n",
      "Layer (type)                 Output Shape              Param #   \n",
      "=================================================================\n",
      "Embedding_layer (Embedding)  (None, 21, 300)           59700     \n",
      "_________________________________________________________________\n",
      "Bidir_Encoder (Bidirectional (None, 512)               1140736   \n",
      "_________________________________________________________________\n",
      "repeat_vector_3 (RepeatVecto (None, 21, 512)           0         \n",
      "_________________________________________________________________\n",
      "LSTM_layer1 (LSTM)           (None, 21, 512)           2099200   \n",
      "_________________________________________________________________\n",
      "LSTM_layer2 (LSTM)           (None, 21, 512)           2099200   \n",
      "_________________________________________________________________\n",
      "Dense_layer (TimeDistributed (None, 21, 344)           176472    \n",
      "=================================================================\n",
      "Total params: 5,575,308\n",
      "Trainable params: 5,575,308\n",
      "Non-trainable params: 0\n",
      "_________________________________________________________________\n",
      "Train on 110288 samples, validate on 27573 samples\n",
      "Epoch 1/22\n",
      "110288/110288 [==============================] - 85s 770us/step - loss: 2.9756 - acc: 0.4451 - val_loss: nan - val_acc: 0.5211\n",
      "Epoch 2/22\n",
      "110288/110288 [==============================] - 84s 759us/step - loss: 1.7196 - acc: 0.5687 - val_loss: nan - val_acc: 0.6243\n",
      "Epoch 3/22\n",
      "110288/110288 [==============================] - 83s 757us/step - loss: 1.2014 - acc: 0.6530 - val_loss: nan - val_acc: 0.6835\n",
      "Epoch 4/22\n",
      "110288/110288 [==============================] - 83s 756us/step - loss: 0.9443 - acc: 0.7140 - val_loss: nan - val_acc: 0.7432\n",
      "Epoch 5/22\n",
      "110288/110288 [==============================] - 83s 755us/step - loss: 0.7674 - acc: 0.7561 - val_loss: nan - val_acc: 0.7797\n",
      "Epoch 6/22\n",
      "110288/110288 [==============================] - 83s 756us/step - loss: 0.6141 - acc: 0.7973 - val_loss: nan - val_acc: 0.8221\n",
      "Epoch 7/22\n",
      "110288/110288 [==============================] - 83s 756us/step - loss: 0.4843 - acc: 0.8402 - val_loss: nan - val_acc: 0.8615\n",
      "Epoch 8/22\n",
      "110288/110288 [==============================] - 83s 756us/step - loss: 0.3730 - acc: 0.8784 - val_loss: nan - val_acc: 0.8945\n",
      "Epoch 9/22\n",
      "110288/110288 [==============================] - 83s 756us/step - loss: 0.2952 - acc: 0.9044 - val_loss: nan - val_acc: 0.9188\n",
      "Epoch 10/22\n",
      "110288/110288 [==============================] - 83s 755us/step - loss: 0.2220 - acc: 0.9297 - val_loss: nan - val_acc: 0.9317\n",
      "Epoch 11/22\n",
      "110288/110288 [==============================] - 83s 755us/step - loss: 0.2126 - acc: 0.9334 - val_loss: nan - val_acc: 0.9467\n",
      "Epoch 12/22\n",
      "110288/110288 [==============================] - 83s 756us/step - loss: 0.1521 - acc: 0.9526 - val_loss: nan - val_acc: 0.9474\n",
      "Epoch 13/22\n",
      "110288/110288 [==============================] - 83s 752us/step - loss: 0.1413 - acc: 0.9556 - val_loss: nan - val_acc: 0.9527\n",
      "Epoch 14/22\n",
      "110288/110288 [==============================] - 83s 753us/step - loss: 0.1212 - acc: 0.9623 - val_loss: nan - val_acc: 0.9614\n",
      "Epoch 15/22\n",
      "110288/110288 [==============================] - 83s 754us/step - loss: 0.1076 - acc: 0.9666 - val_loss: nan - val_acc: 0.9658\n",
      "Epoch 16/22\n",
      "110288/110288 [==============================] - 83s 755us/step - loss: 0.0963 - acc: 0.9705 - val_loss: nan - val_acc: 0.9654\n",
      "Epoch 17/22\n",
      "110288/110288 [==============================] - 83s 754us/step - loss: 0.0946 - acc: 0.9708 - val_loss: nan - val_acc: 0.9651\n",
      "Epoch 18/22\n",
      "110288/110288 [==============================] - 83s 755us/step - loss: 0.0880 - acc: 0.9730 - val_loss: nan - val_acc: 0.9709\n",
      "Epoch 19/22\n",
      "110288/110288 [==============================] - 83s 755us/step - loss: 0.0804 - acc: 0.9755 - val_loss: nan - val_acc: 0.9707\n",
      "Epoch 20/22\n",
      "110288/110288 [==============================] - 83s 756us/step - loss: 0.0872 - acc: 0.9739 - val_loss: nan - val_acc: 0.9720\n",
      "Epoch 21/22\n",
      "110288/110288 [==============================] - 83s 755us/step - loss: 0.0705 - acc: 0.9788 - val_loss: nan - val_acc: 0.9732\n",
      "Epoch 22/22\n",
      "110288/110288 [==============================] - 83s 755us/step - loss: 0.0641 - acc: 0.9810 - val_loss: nan - val_acc: 0.9519\n"
     ]
    },
    {
     "data": {
      "text/plain": [
       "<keras.callbacks.History at 0x7f3a160d0ba8>"
      ]
     },
     "execution_count": 21,
     "metadata": {},
     "output_type": "execute_result"
    }
   ],
   "source": [
    "def encdec_model3(input_shape, output_sequence_length, english_vocab_size, french_vocab_size):\n",
    "    \"\"\"\n",
    "    Build and train an encoder-decoder model on x and y\n",
    "    :param input_shape: Tuple of input shape\n",
    "    :param output_sequence_length: Length of output sequence\n",
    "    :param english_vocab_size: Number of unique English words in the dataset\n",
    "    :param french_vocab_size: Number of unique French words in the dataset\n",
    "    :return: Keras model built, but not trained\n",
    "    \"\"\"\n",
    "    # OPTIONAL: Implement\n",
    "    \n",
    "    learning_rate = 0.001\n",
    "    embedding_size = 300\n",
    "    num_units = 256\n",
    "    \n",
    "    ########### ENCODER ###########\n",
    "    model = Sequential(name='Encdec')\n",
    "    \n",
    "    # Embedding layer - Input shape (batch_size, seq_length)\n",
    "    \n",
    "    model.add(Embedding(input_dim = english_vocab_size, output_dim = embedding_size, \n",
    "                           input_length= input_shape[1], name=\"Embedding_layer\"))\n",
    "    \n",
    "    # Bidirectional LSTM : unit shape (batch, seq_length, embedding_size), output shape of decoder = (batch , num_unitsx2)\n",
    "    model.add(Bidirectional(LSTM(num_units, return_sequences=False, activation=\"relu\"),input_shape=input_shape[1:], name=\"Bidir_Encoder\"))\n",
    "        \n",
    "    ########### INTERMEDIARY ###########\n",
    "    # This adjusts the shape of the Encoder output (2D) to the need of the Decoder (3D input).\n",
    "    # We repeat the 2D vector over sequence_length times to produce the shape (batchsize, seq_length, LSTM unitsx2)\n",
    "    model.add(RepeatVector(output_sequence_length))\n",
    "    \n",
    "    ########### DECODER ###########\n",
    "    # Depth 2 LSTM layers input=(batch,seq_len,LSTM_unitsx2) => output shape identical due to return_seq and LSTM units\n",
    "    model.add(LSTM(num_units*2, return_sequences=True, activation=\"relu\", name=\"LSTM_layer1\"))\n",
    "    model.add(LSTM(num_units*2, return_sequences=True, activation=\"relu\", name=\"LSTM_layer2\"))\n",
    "    \n",
    "    model.add(TimeDistributed(Dense(french_vocab_size, activation=\"softmax\"), name=\"Dense_layer\"))\n",
    "\n",
    "    ########### END-TO-END MODEL ###########\n",
    "    model.compile(loss=sparse_categorical_crossentropy,\n",
    "                  optimizer=Adam(learning_rate),\n",
    "                  metrics=['accuracy'])\n",
    "    \n",
    "    return model\n",
    "\n",
    "#tests.test_encdec_model(encdec_model3) # commented out to avoid error: english sequences padded to french sequence max length\n",
    "\n",
    "# OPTIONAL: Train and Print prediction(s)\n",
    "\n",
    "# TODO: Reshape the input\n",
    "tmp_x = pad(preproc_english_sentences, max_french_sequence_length)\n",
    "tmp_x = tmp_x.reshape((-1, preproc_french_sentences.shape[-2]))   # reshape for embedding input\n",
    "\n",
    "# Train the neural network\n",
    "enc_dec_model3 = encdec_model3(\n",
    "                        tmp_x.shape,\n",
    "                        max_french_sequence_length,\n",
    "                        english_vocab_size,\n",
    "                        french_vocab_size)\n",
    "\n",
    "enc_dec_model3.summary()\n",
    "\n",
    "enc_dec_model3.fit(tmp_x, preproc_french_sentences, batch_size=1024, epochs=22, validation_split=0.2)"
   ]
  },
  {
   "cell_type": "code",
   "execution_count": 22,
   "metadata": {},
   "outputs": [
    {
     "name": "stdout",
     "output_type": "stream",
     "text": [
      "---- Original ----\n",
      "new jersey is sometimes quiet during autumn and it is snowy in april\n",
      "\n",
      "---- Gold standard ----\n",
      "new jersey est parfois calme pendant l' automne et il est neigeux en avril\n",
      "\n",
      "---- Prediction ----\n",
      "\u001b[0;30;0m new\u001b[0;30;0m jersey\u001b[0;30;0m est\u001b[0;30;0m parfois\u001b[0;30;0m calme\u001b[0;30;0m pendant\u001b[0;30;0m l'\u001b[0;30;0m automne\u001b[0;30;0m et\u001b[0;30;0m il\u001b[0;30;0m est\u001b[0;30;0m neigeux\u001b[0;30;0m en\u001b[0;30;0m avril\n"
     ]
    }
   ],
   "source": [
    "print('---- Original ----')\n",
    "print(' '.join(token_to_words(tmp_x[:1][0],english_tokenizer) ))\n",
    "print()\n",
    "translate(enc_dec_model3.predict(tmp_x[:1]), preproc_french_sentences[:1])"
   ]
  },
  {
   "cell_type": "markdown",
   "metadata": {},
   "source": [
    "### Savings weights of Encoder Decoder model"
   ]
  },
  {
   "cell_type": "code",
   "execution_count": 23,
   "metadata": {},
   "outputs": [],
   "source": [
    "# Save the weights\n",
    "enc_dec_model3.save_weights('final_model_encdec')\n",
    "\n",
    "# Save the entire model as a SavedModel.\n",
    "!mkdir -p saved_model\n",
    "enc_dec_model3.save('saved_model/final_model_encdec_full')"
   ]
  },
  {
   "cell_type": "markdown",
   "metadata": {},
   "source": [
    "## Encoder Decoder model with GRU RNN\n",
    "- No bidirectional unit\n",
    "- 1 layer depth for both encoder and decoder\n",
    "- Much less parameters compared to LSTM"
   ]
  },
  {
   "cell_type": "code",
   "execution_count": 15,
   "metadata": {},
   "outputs": [
    {
     "name": "stdout",
     "output_type": "stream",
     "text": [
      "_________________________________________________________________\n",
      "Layer (type)                 Output Shape              Param #   \n",
      "=================================================================\n",
      "Embedding_layer (Embedding)  (None, 21, 256)           50944     \n",
      "_________________________________________________________________\n",
      "GRU_encoder (GRU)            (None, 256)               393984    \n",
      "_________________________________________________________________\n",
      "Glue (RepeatVector)          (None, 21, 256)           0         \n",
      "_________________________________________________________________\n",
      "GRU_decoder (GRU)            (None, 21, 256)           393984    \n",
      "_________________________________________________________________\n",
      "Dense (TimeDistributed)      (None, 21, 344)           88408     \n",
      "_________________________________________________________________\n",
      "softmax (Activation)         (None, 21, 344)           0         \n",
      "=================================================================\n",
      "Total params: 927,320\n",
      "Trainable params: 927,320\n",
      "Non-trainable params: 0\n",
      "_________________________________________________________________\n",
      "Train on 110288 samples, validate on 27573 samples\n",
      "Epoch 1/40\n",
      "110288/110288 [==============================] - 25s 226us/step - loss: 3.0396 - acc: 0.4359 - val_loss: nan - val_acc: 0.4655\n",
      "Epoch 2/40\n",
      "110288/110288 [==============================] - 22s 203us/step - loss: 2.0204 - acc: 0.5045 - val_loss: nan - val_acc: 0.5426\n",
      "Epoch 3/40\n",
      "110288/110288 [==============================] - 22s 203us/step - loss: 1.6538 - acc: 0.5793 - val_loss: nan - val_acc: 0.6071\n",
      "Epoch 4/40\n",
      "110288/110288 [==============================] - 22s 203us/step - loss: 1.4164 - acc: 0.6274 - val_loss: nan - val_acc: 0.6427\n",
      "Epoch 5/40\n",
      "110288/110288 [==============================] - 22s 203us/step - loss: 1.2816 - acc: 0.6516 - val_loss: nan - val_acc: 0.6662\n",
      "Epoch 6/40\n",
      "110288/110288 [==============================] - 22s 204us/step - loss: 1.1459 - acc: 0.6864 - val_loss: nan - val_acc: 0.7030\n",
      "Epoch 7/40\n",
      "110288/110288 [==============================] - 22s 203us/step - loss: 1.0186 - acc: 0.7145 - val_loss: nan - val_acc: 0.7209\n",
      "Epoch 8/40\n",
      "110288/110288 [==============================] - 22s 203us/step - loss: 0.9381 - acc: 0.7297 - val_loss: nan - val_acc: 0.7395\n",
      "Epoch 9/40\n",
      "110288/110288 [==============================] - 22s 203us/step - loss: 0.8643 - acc: 0.7468 - val_loss: nan - val_acc: 0.7564\n",
      "Epoch 10/40\n",
      "110288/110288 [==============================] - 22s 204us/step - loss: 0.8093 - acc: 0.7609 - val_loss: nan - val_acc: 0.7707\n",
      "Epoch 11/40\n",
      "110288/110288 [==============================] - 22s 203us/step - loss: 0.7438 - acc: 0.7793 - val_loss: nan - val_acc: 0.7787\n",
      "Epoch 12/40\n",
      "110288/110288 [==============================] - 22s 203us/step - loss: 0.6931 - acc: 0.7929 - val_loss: nan - val_acc: 0.8015\n",
      "Epoch 13/40\n",
      "110288/110288 [==============================] - 22s 203us/step - loss: 0.6437 - acc: 0.8076 - val_loss: nan - val_acc: 0.8140\n",
      "Epoch 14/40\n",
      "110288/110288 [==============================] - 22s 203us/step - loss: 0.5953 - acc: 0.8243 - val_loss: nan - val_acc: 0.8337\n",
      "Epoch 15/40\n",
      "110288/110288 [==============================] - 22s 204us/step - loss: 0.5436 - acc: 0.8419 - val_loss: nan - val_acc: 0.8472\n",
      "Epoch 16/40\n",
      "110288/110288 [==============================] - 22s 203us/step - loss: 0.4954 - acc: 0.8580 - val_loss: nan - val_acc: 0.8627\n",
      "Epoch 17/40\n",
      "110288/110288 [==============================] - 22s 204us/step - loss: 0.4551 - acc: 0.8708 - val_loss: nan - val_acc: 0.8760\n",
      "Epoch 18/40\n",
      "110288/110288 [==============================] - 22s 204us/step - loss: 0.4149 - acc: 0.8833 - val_loss: nan - val_acc: 0.8883\n",
      "Epoch 19/40\n",
      "110288/110288 [==============================] - 22s 204us/step - loss: 0.3822 - acc: 0.8935 - val_loss: nan - val_acc: 0.8993\n",
      "Epoch 20/40\n",
      "110288/110288 [==============================] - 22s 203us/step - loss: 0.3484 - acc: 0.9039 - val_loss: nan - val_acc: 0.9050\n",
      "Epoch 21/40\n",
      "110288/110288 [==============================] - 22s 204us/step - loss: 0.3227 - acc: 0.9114 - val_loss: nan - val_acc: 0.9133\n",
      "Epoch 22/40\n",
      "110288/110288 [==============================] - 22s 204us/step - loss: 0.2966 - acc: 0.9187 - val_loss: nan - val_acc: 0.9156\n",
      "Epoch 23/40\n",
      "110288/110288 [==============================] - 22s 204us/step - loss: 0.2716 - acc: 0.9256 - val_loss: nan - val_acc: 0.9265\n",
      "Epoch 24/40\n",
      "110288/110288 [==============================] - 22s 204us/step - loss: 0.2545 - acc: 0.9301 - val_loss: nan - val_acc: 0.9289\n",
      "Epoch 25/40\n",
      "110288/110288 [==============================] - 22s 203us/step - loss: 0.2306 - acc: 0.9368 - val_loss: nan - val_acc: 0.9388\n",
      "Epoch 26/40\n",
      "110288/110288 [==============================] - 22s 203us/step - loss: 0.2122 - acc: 0.9429 - val_loss: nan - val_acc: 0.9424\n",
      "Epoch 27/40\n",
      "110288/110288 [==============================] - 22s 203us/step - loss: 0.1887 - acc: 0.9504 - val_loss: nan - val_acc: 0.9507\n",
      "Epoch 28/40\n",
      "110288/110288 [==============================] - 22s 204us/step - loss: 0.1663 - acc: 0.9575 - val_loss: nan - val_acc: 0.9540\n",
      "Epoch 29/40\n",
      "110288/110288 [==============================] - 22s 204us/step - loss: 0.1563 - acc: 0.9602 - val_loss: nan - val_acc: 0.9532\n",
      "Epoch 30/40\n",
      "110288/110288 [==============================] - 22s 203us/step - loss: 0.1457 - acc: 0.9635 - val_loss: nan - val_acc: 0.9627\n",
      "Epoch 31/40\n",
      "110288/110288 [==============================] - 22s 203us/step - loss: 0.1265 - acc: 0.9686 - val_loss: nan - val_acc: 0.9641\n",
      "Epoch 32/40\n",
      "110288/110288 [==============================] - 22s 203us/step - loss: 0.1126 - acc: 0.9721 - val_loss: nan - val_acc: 0.9669\n",
      "Epoch 33/40\n",
      "110288/110288 [==============================] - 22s 203us/step - loss: 0.1079 - acc: 0.9731 - val_loss: nan - val_acc: 0.9655\n",
      "Epoch 34/40\n",
      "110288/110288 [==============================] - 22s 203us/step - loss: 0.1072 - acc: 0.9726 - val_loss: nan - val_acc: 0.9664\n",
      "Epoch 35/40\n",
      "110288/110288 [==============================] - 22s 203us/step - loss: 0.0969 - acc: 0.9750 - val_loss: nan - val_acc: 0.9700\n",
      "Epoch 36/40\n",
      "110288/110288 [==============================] - 22s 203us/step - loss: 0.0927 - acc: 0.9761 - val_loss: nan - val_acc: 0.9714\n",
      "Epoch 37/40\n",
      "110288/110288 [==============================] - 22s 203us/step - loss: 0.0857 - acc: 0.9777 - val_loss: nan - val_acc: 0.9715\n",
      "Epoch 38/40\n",
      "110288/110288 [==============================] - 22s 203us/step - loss: 0.0824 - acc: 0.9783 - val_loss: nan - val_acc: 0.9735\n",
      "Epoch 39/40\n",
      "110288/110288 [==============================] - 22s 203us/step - loss: 0.0734 - acc: 0.9806 - val_loss: nan - val_acc: 0.9734\n",
      "Epoch 40/40\n",
      "110288/110288 [==============================] - 22s 203us/step - loss: 0.0724 - acc: 0.9808 - val_loss: nan - val_acc: 0.9739\n"
     ]
    },
    {
     "data": {
      "text/plain": [
       "<keras.callbacks.History at 0x7fabbc2527f0>"
      ]
     },
     "execution_count": 15,
     "metadata": {},
     "output_type": "execute_result"
    }
   ],
   "source": [
    "def encdec_model4(input_shape, output_sequence_length, english_vocab_size, french_vocab_size):\n",
    "    \"\"\"\n",
    "    Build and train an encoder-decoder model on x and y\n",
    "    :param input_shape: Tuple of input shape\n",
    "    :param output_sequence_length: Length of output sequence\n",
    "    :param english_vocab_size: Number of unique English words in the dataset\n",
    "    :param french_vocab_size: Number of unique French words in the dataset\n",
    "    :return: Keras model built, but not trained\n",
    "    \"\"\"\n",
    "    # OPTIONAL: Implement\n",
    "    \n",
    "    learning_rate = 0.001\n",
    "    embedding_size = 256\n",
    "    num_units = 256\n",
    "    \n",
    "    model = Sequential(name='enc_dec_model4')\n",
    "    \n",
    "    ########### ENCODER ###########\n",
    "    # Embedding layer - Input shape (batch_size, seq_length)\n",
    "    model.add(Embedding(input_dim = english_vocab_size, output_dim = embedding_size, \n",
    "                           input_length= input_shape[1], name=\"Embedding_layer\"))\n",
    "    \n",
    "    # Expected shape for GRU layer input : (batchsize, Seq_length, embedding_size)\n",
    "    model.add(GRU(num_units, go_backwards=True, name='GRU_encoder'))\n",
    "    # output shape of decoder = (batch , num_units)\n",
    "    \n",
    "    ########### INTERMEDIARY ###########\n",
    "    # This adjusts the shape of the Encoder output (2D) to the need of the Decoder (3D input).\n",
    "    # We repeat the 2D vector over sequence_length times to produce the shape (batchsize, seq_length, num_units)\n",
    "    model.add(RepeatVector(output_sequence_length, name='Glue'))\n",
    "    # output shape of glue intermediary step = (batch , seq_length, num_units) compatible with expected input for Decoder GRU  \n",
    "    \n",
    "    ########### DECODER ###########\n",
    "       \n",
    "    model.add(GRU(num_units, return_sequences=True, name='GRU_decoder'))\n",
    "    \n",
    "    model.add(TimeDistributed(Dense(french_vocab_size), name='Dense'))\n",
    "    \n",
    "    model.add(Activation('softmax', name='softmax'))\n",
    "    # output shape of decoder = (batch , french_vocab_size) probability distribution over target vocabulary\n",
    "    \n",
    "    ########### END-TO-END MODEL ###########\n",
    "    model.compile(loss='sparse_categorical_crossentropy',\n",
    "                  optimizer=Adam(learning_rate),\n",
    "                  metrics=['accuracy'])\n",
    "    \n",
    "    return model\n",
    "\n",
    "#tests.test_encdec_model(encdec_model) # commented out to avoid error: english sequences padded to french sequence max length\n",
    "\n",
    "# OPTIONAL: Train and Print prediction(s)\n",
    "\n",
    "# TODO: Reshape the input\n",
    "tmp_x = pad(preproc_english_sentences, max_french_sequence_length) # pad input sequence to output sequence length\n",
    "tmp_x = tmp_x.reshape((-1, preproc_french_sentences.shape[-2]))    # reshape for embedding input\n",
    "\n",
    "# Train the neural network\n",
    "enc_dec_model4 = encdec_model4(\n",
    "                        tmp_x.shape,\n",
    "                        max_french_sequence_length,\n",
    "                        english_vocab_size,\n",
    "                        french_vocab_size)\n",
    "\n",
    "enc_dec_model4.summary()\n",
    "\n",
    "enc_dec_model4.fit(tmp_x, preproc_french_sentences, batch_size=1024, epochs=30, validation_split=0.2)\n"
   ]
  },
  {
   "cell_type": "code",
   "execution_count": 16,
   "metadata": {},
   "outputs": [
    {
     "name": "stdout",
     "output_type": "stream",
     "text": [
      "---- Original ----\n",
      "new jersey is sometimes quiet during autumn and it is snowy in april\n",
      "\n",
      "---- Gold standard ----\n",
      "new jersey est parfois calme pendant l' automne et il est neigeux en avril\n",
      "\n",
      "---- Prediction ----\n",
      "\u001b[0;30;0m new\u001b[0;30;0m jersey\u001b[0;30;0m est\u001b[0;30;0m parfois\u001b[0;30;0m calme\u001b[0;30;0m pendant\u001b[0;30;0m l'\u001b[0;30;0m automne\u001b[0;30;0m et\u001b[0;30;0m il\u001b[0;30;0m est\u001b[0;30;0m neigeux\u001b[0;30;0m en\u001b[0;30;0m avril\n"
     ]
    }
   ],
   "source": [
    "print('---- Original ----')\n",
    "print(' '.join(token_to_words(tmp_x[:1][0],english_tokenizer) ))\n",
    "print()\n",
    "translate(enc_dec_model4.predict(tmp_x[:1]), preproc_french_sentences[:1])"
   ]
  },
  {
   "cell_type": "code",
   "execution_count": 17,
   "metadata": {},
   "outputs": [],
   "source": [
    "# Save the weights\n",
    "enc_dec_model4.save_weights('final_model_encdec4')\n",
    "\n",
    "# Save the entire model as a SavedModel.\n",
    "!mkdir -p saved_model\n",
    "enc_dec_model4.save('saved_model/final_model_encdec4_full')"
   ]
  },
  {
   "cell_type": "markdown",
   "metadata": {},
   "source": [
    "### More complex Encoder-Decoder with GRU RNNs\n",
    "- Bidirectional unit for the encoder (2 layers)\n",
    "- 2 layers depth for the decoder\n",
    "- Good convergence and accuracy, at par with LSTM, with less parameters"
   ]
  },
  {
   "cell_type": "code",
   "execution_count": 36,
   "metadata": {
    "scrolled": false
   },
   "outputs": [
    {
     "name": "stdout",
     "output_type": "stream",
     "text": [
      "_________________________________________________________________\n",
      "Layer (type)                 Output Shape              Param #   \n",
      "=================================================================\n",
      "input_Encoder (InputLayer)   (None, 21)                0         \n",
      "_________________________________________________________________\n",
      "Embedding_layer (Embedding)  (None, 21, 512)           101888    \n",
      "_________________________________________________________________\n",
      "Bidir_encoder (Bidirectional (None, 512)               1181184   \n",
      "_________________________________________________________________\n",
      "repeat_vector_3 (RepeatVecto (None, 21, 512)           0         \n",
      "_________________________________________________________________\n",
      "LSTM_layer1 (GRU)            (None, 21, 256)           590592    \n",
      "_________________________________________________________________\n",
      "LSTM_layer2 (GRU)            (None, 21, 256)           393984    \n",
      "_________________________________________________________________\n",
      "Dense_layer (TimeDistributed (None, 21, 344)           88408     \n",
      "=================================================================\n",
      "Total params: 2,356,056\n",
      "Trainable params: 2,356,056\n",
      "Non-trainable params: 0\n",
      "_________________________________________________________________\n",
      "Train on 110288 samples, validate on 27573 samples\n",
      "Epoch 1/25\n",
      "110288/110288 [==============================] - 48s 435us/step - loss: 2.6773 - acc: 0.4652 - val_loss: nan - val_acc: 0.5446\n",
      "Epoch 2/25\n",
      "110288/110288 [==============================] - 46s 414us/step - loss: 1.6783 - acc: 0.5768 - val_loss: nan - val_acc: 0.5981\n",
      "Epoch 3/25\n",
      "110288/110288 [==============================] - 46s 414us/step - loss: 1.3803 - acc: 0.6291 - val_loss: nan - val_acc: 0.6517\n",
      "Epoch 4/25\n",
      "110288/110288 [==============================] - 46s 414us/step - loss: 1.2070 - acc: 0.6692 - val_loss: nan - val_acc: 0.6903\n",
      "Epoch 5/25\n",
      "110288/110288 [==============================] - 46s 415us/step - loss: 1.0796 - acc: 0.6971 - val_loss: nan - val_acc: 0.7086\n",
      "Epoch 6/25\n",
      "110288/110288 [==============================] - 46s 415us/step - loss: 0.9967 - acc: 0.7144 - val_loss: nan - val_acc: 0.7284\n",
      "Epoch 7/25\n",
      "110288/110288 [==============================] - 46s 415us/step - loss: 0.9084 - acc: 0.7340 - val_loss: nan - val_acc: 0.7448\n",
      "Epoch 8/25\n",
      "110288/110288 [==============================] - 46s 414us/step - loss: 0.8339 - acc: 0.7528 - val_loss: nan - val_acc: 0.7612\n",
      "Epoch 9/25\n",
      "110288/110288 [==============================] - 46s 414us/step - loss: 0.7700 - acc: 0.7690 - val_loss: nan - val_acc: 0.7778\n",
      "Epoch 10/25\n",
      "110288/110288 [==============================] - 46s 415us/step - loss: 0.7023 - acc: 0.7849 - val_loss: nan - val_acc: 0.7907\n",
      "Epoch 11/25\n",
      "110288/110288 [==============================] - 46s 415us/step - loss: 0.6446 - acc: 0.7994 - val_loss: nan - val_acc: 0.8100\n",
      "Epoch 12/25\n",
      "110288/110288 [==============================] - 46s 415us/step - loss: 0.5895 - acc: 0.8158 - val_loss: nan - val_acc: 0.8211\n",
      "Epoch 13/25\n",
      "110288/110288 [==============================] - 46s 415us/step - loss: 0.5752 - acc: 0.8219 - val_loss: nan - val_acc: 0.8346\n",
      "Epoch 14/25\n",
      "110288/110288 [==============================] - 46s 415us/step - loss: 0.4897 - acc: 0.8505 - val_loss: nan - val_acc: 0.8607\n",
      "Epoch 15/25\n",
      "110288/110288 [==============================] - 46s 415us/step - loss: 0.4371 - acc: 0.8688 - val_loss: nan - val_acc: 0.8766\n",
      "Epoch 16/25\n",
      "110288/110288 [==============================] - 46s 415us/step - loss: 0.3950 - acc: 0.8831 - val_loss: nan - val_acc: 0.8774\n",
      "Epoch 17/25\n",
      "110288/110288 [==============================] - 46s 415us/step - loss: 0.3479 - acc: 0.8982 - val_loss: nan - val_acc: 0.9075\n",
      "Epoch 18/25\n",
      "110288/110288 [==============================] - 46s 415us/step - loss: 0.3067 - acc: 0.9140 - val_loss: nan - val_acc: 0.9198\n",
      "Epoch 19/25\n",
      "110288/110288 [==============================] - 46s 415us/step - loss: 0.2635 - acc: 0.9299 - val_loss: nan - val_acc: 0.9337\n",
      "Epoch 20/25\n",
      "110288/110288 [==============================] - 46s 415us/step - loss: 0.2214 - acc: 0.9441 - val_loss: nan - val_acc: 0.9484\n",
      "Epoch 21/25\n",
      "110288/110288 [==============================] - 46s 415us/step - loss: 0.1896 - acc: 0.9539 - val_loss: nan - val_acc: 0.9561\n",
      "Epoch 22/25\n",
      "110288/110288 [==============================] - 46s 415us/step - loss: 0.1954 - acc: 0.9508 - val_loss: nan - val_acc: 0.9593\n",
      "Epoch 23/25\n",
      "110288/110288 [==============================] - 46s 415us/step - loss: 0.1463 - acc: 0.9645 - val_loss: nan - val_acc: 0.9635\n",
      "Epoch 24/25\n",
      "110288/110288 [==============================] - 46s 415us/step - loss: 0.1296 - acc: 0.9682 - val_loss: nan - val_acc: 0.9679\n",
      "Epoch 25/25\n",
      "110288/110288 [==============================] - 46s 415us/step - loss: 0.1122 - acc: 0.9723 - val_loss: nan - val_acc: 0.9689\n"
     ]
    },
    {
     "data": {
      "text/plain": [
       "<keras.callbacks.History at 0x7fab48275358>"
      ]
     },
     "execution_count": 36,
     "metadata": {},
     "output_type": "execute_result"
    }
   ],
   "source": [
    "def encdec_model(input_shape, output_sequence_length, english_vocab_size, french_vocab_size):\n",
    "    \"\"\"\n",
    "    Build and train an encoder-decoder model on x and y\n",
    "    :param input_shape: Tuple of input shape\n",
    "    :param output_sequence_length: Length of output sequence\n",
    "    :param english_vocab_size: Number of unique English words in the dataset\n",
    "    :param french_vocab_size: Number of unique French words in the dataset\n",
    "    :return: Keras model built, but not trained\n",
    "    \"\"\"\n",
    "    # OPTIONAL: Implement\n",
    "    \n",
    "    learning_rate = 0.001\n",
    "    embedding_size = 512\n",
    "    num_units = 256\n",
    "    \n",
    "    ########### ENCODER ###########\n",
    "    # Expected shape for Embedding layer input : (batchsize, Seq_length)\n",
    "    encoder_input = Input(shape=input_shape[1:], name=\"input_Encoder\")  \n",
    "    \n",
    "    embeddings = Embedding(input_dim = english_vocab_size, output_dim = embedding_size, \n",
    "                           input_length= input_shape[1], name=\"Embedding_layer\")(encoder_input)\n",
    "    # output shape of embeddings = (batch , seq_length, embedding_size)\n",
    "    \n",
    "    encoder_output = Bidirectional(GRU(num_units, return_sequences=False, activation=\"tanh\"), name=\"BiGRU_encoder\")(embeddings)\n",
    "    # output shape of decoder = (batch , num_units)\n",
    "    \n",
    "    ########### INTERMEDIARY ###########\n",
    "    # This adjusts the shape of the Encoder output (2D) to the need of the Decoder (3D input).\n",
    "    # We repeat the 2D vector over sequence_length times to produce the shape (batchsize, seq_length, num_units)\n",
    "    sequenced_context_vector = RepeatVector(output_sequence_length)(encoder_output)\n",
    "    # output shape of glue intermediary step = (batch , seq_length, num_units) compatible with expected input for Decoder GRU  \n",
    "    \n",
    "    ########### DECODER ###########\n",
    "       \n",
    "    x = GRU(num_units, return_sequences=True, activation=\"tanh\", name=\"GRU_layer1\")(sequenced_context_vector)\n",
    "    # output shape of GRU = (batch , seq_length, num_units) because return_seq activated\n",
    "    x = GRU(num_units, return_sequences=True, activation=\"tanh\", name=\"GRU_layer2\")(x)\n",
    "    # output shape of GRU = (batch , seq_length, num_units) because return_seq activated\n",
    "    \n",
    "    preds = TimeDistributed(Dense(french_vocab_size, activation=\"softmax\"), name=\"Dense_layer\")(x)\n",
    "    # output shape of decoder = (batch , french_vocab_size) probability distribution over target vocabulary\n",
    "    \n",
    "    ########### END-TO-END MODEL ###########\n",
    "    model = Model(inputs=encoder_input, outputs=preds, name='Encdec')\n",
    "    \n",
    "    model.compile(loss=sparse_categorical_crossentropy,\n",
    "                  optimizer=Adam(learning_rate),\n",
    "                  metrics=['accuracy'])\n",
    "    \n",
    "    return model\n",
    "\n",
    "#tests.test_encdec_model(encdec_model) # commented out to avoid error: english sequences padded to french sequence max length\n",
    "\n",
    "# OPTIONAL: Train and Print prediction(s)\n",
    "\n",
    "# TODO: Reshape the input\n",
    "tmp_x = pad(preproc_english_sentences, max_french_sequence_length) # pad input sequence to output sequence length\n",
    "tmp_x = tmp_x.reshape((-1, preproc_french_sentences.shape[-2]))    # reshape for embedding input\n",
    "\n",
    "# Train the neural network\n",
    "enc_dec_model = encdec_model(\n",
    "                        tmp_x.shape,\n",
    "                        max_french_sequence_length,\n",
    "                        english_vocab_size,\n",
    "                        french_vocab_size)\n",
    "\n",
    "enc_dec_model.summary()\n",
    "\n",
    "enc_dec_model.fit(tmp_x, preproc_french_sentences, batch_size=1024, epochs=25, validation_split=0.2)\n"
   ]
  },
  {
   "cell_type": "code",
   "execution_count": 37,
   "metadata": {},
   "outputs": [
    {
     "name": "stdout",
     "output_type": "stream",
     "text": [
      "---- Original ----\n",
      "new jersey is sometimes quiet during autumn and it is snowy in april\n",
      "\n",
      "---- Gold standard ----\n",
      "new jersey est parfois calme pendant l' automne et il est neigeux en avril\n",
      "\n",
      "---- Prediction ----\n",
      "\u001b[0;30;0m new\u001b[0;30;0m jersey\u001b[0;30;0m est\u001b[0;30;0m parfois\u001b[0;30;0m calme\u001b[0;30;0m pendant\u001b[0;30;0m l'\u001b[0;30;0m automne\u001b[0;30;0m et\u001b[0;30;0m il\u001b[0;30;0m est\u001b[0;30;0m neigeux\u001b[0;30;0m en\u001b[0;30;0m avril\n"
     ]
    }
   ],
   "source": [
    "# Print prediction(s)\n",
    "print('---- Original ----')\n",
    "print(' '.join(token_to_words(tmp_x[:1][0],english_tokenizer) ))\n",
    "print()\n",
    "translate(enc_dec_model.predict(tmp_x[:1]), preproc_french_sentences[:1])"
   ]
  },
  {
   "cell_type": "markdown",
   "metadata": {},
   "source": [
    "### Savings weights of Encoder Decoder model"
   ]
  },
  {
   "cell_type": "code",
   "execution_count": 38,
   "metadata": {},
   "outputs": [],
   "source": [
    "# Save the weights\n",
    "enc_dec_model.save_weights('final_model_encdec_GRU')\n",
    "\n",
    "# Save the entire model as a SavedModel.\n",
    "!mkdir -p saved_model\n",
    "enc_dec_model.save('saved_model/final_model_encdec_GRU_full')"
   ]
  },
  {
   "cell_type": "markdown",
   "metadata": {},
   "source": [
    "### Model 5: Custom (IMPLEMENTATION)\n",
    "Use everything you learned from the previous models to create a model that incorporates embedding and a bidirectional rnn into one model.\n",
    "\n",
    "#### Inputs/Outputs shape Customl RNN\n",
    "- Embedding requires input shape (batchsize, input_length) and outputs (batchsize, input_length, embedded_dim)\n",
    "- this shape is OK for input to LSTM (3D)\n",
    "- LSTM or GRU Input shape (batchsize, timesteps, embedded_dim). Return_sequence activated to return output at each timestep\n",
    "- output shape Bidir-LSTM (None, timesteps = sequence_length, 2 x LSTM num_units) because both outputs are concatenated.\n",
    "- Use of TimeDistributed wrapper over Dense(target_vocab_size) to process each timestep\n",
    "- for each time step, Dense outputs a probability distribution over target_vocab to predict next word\n"
   ]
  },
  {
   "cell_type": "code",
   "execution_count": 48,
   "metadata": {},
   "outputs": [
    {
     "name": "stdout",
     "output_type": "stream",
     "text": [
      "_________________________________________________________________\n",
      "Layer (type)                 Output Shape              Param #   \n",
      "=================================================================\n",
      "Embedding_layer (Embedding)  (None, 21, 256)           50944     \n",
      "_________________________________________________________________\n",
      "Bi_LSTM_encoder (Bidirection (None, 512)               1050624   \n",
      "_________________________________________________________________\n",
      "Glue (RepeatVector)          (None, 21, 512)           0         \n",
      "_________________________________________________________________\n",
      "LSTM_decoder (LSTM)          (None, 21, 256)           787456    \n",
      "_________________________________________________________________\n",
      "Dense (TimeDistributed)      (None, 21, 344)           88408     \n",
      "=================================================================\n",
      "Total params: 1,977,432\n",
      "Trainable params: 1,977,432\n",
      "Non-trainable params: 0\n",
      "_________________________________________________________________\n",
      "Train on 110288 samples, validate on 27573 samples\n",
      "Epoch 1/20\n",
      "110288/110288 [==============================] - 45s 408us/step - loss: 2.5207 - acc: 0.4688 - val_loss: nan - val_acc: 0.5581\n",
      "Epoch 2/20\n",
      "110288/110288 [==============================] - 41s 371us/step - loss: 1.4338 - acc: 0.6215 - val_loss: nan - val_acc: 0.6713\n",
      "Epoch 3/20\n",
      "110288/110288 [==============================] - 41s 371us/step - loss: 1.0850 - acc: 0.6964 - val_loss: nan - val_acc: 0.7289\n",
      "Epoch 4/20\n",
      "110288/110288 [==============================] - 41s 371us/step - loss: 0.8426 - acc: 0.7528 - val_loss: nan - val_acc: 0.7778\n",
      "Epoch 5/20\n",
      "110288/110288 [==============================] - 41s 371us/step - loss: 0.6418 - acc: 0.8109 - val_loss: nan - val_acc: 0.8417\n",
      "Epoch 6/20\n",
      "110288/110288 [==============================] - 41s 371us/step - loss: 0.4699 - acc: 0.8635 - val_loss: nan - val_acc: 0.8895\n",
      "Epoch 7/20\n",
      "110288/110288 [==============================] - 41s 371us/step - loss: 0.3580 - acc: 0.8991 - val_loss: nan - val_acc: 0.9204\n",
      "Epoch 8/20\n",
      "110288/110288 [==============================] - 41s 371us/step - loss: 0.2545 - acc: 0.9321 - val_loss: nan - val_acc: 0.9376\n",
      "Epoch 9/20\n",
      "110288/110288 [==============================] - 41s 371us/step - loss: 0.1967 - acc: 0.9487 - val_loss: nan - val_acc: 0.9525\n",
      "Epoch 10/20\n",
      "110288/110288 [==============================] - 41s 371us/step - loss: 0.1542 - acc: 0.9603 - val_loss: nan - val_acc: 0.9567\n",
      "Epoch 11/20\n",
      "110288/110288 [==============================] - 41s 371us/step - loss: 0.1246 - acc: 0.9681 - val_loss: nan - val_acc: 0.9674\n",
      "Epoch 12/20\n",
      "110288/110288 [==============================] - 41s 371us/step - loss: 0.1075 - acc: 0.9719 - val_loss: nan - val_acc: 0.9699\n",
      "Epoch 13/20\n",
      "110288/110288 [==============================] - 41s 371us/step - loss: 0.0945 - acc: 0.9750 - val_loss: nan - val_acc: 0.9706\n",
      "Epoch 14/20\n",
      "110288/110288 [==============================] - 41s 371us/step - loss: 0.0839 - acc: 0.9776 - val_loss: nan - val_acc: 0.9744\n",
      "Epoch 15/20\n",
      "110288/110288 [==============================] - 41s 371us/step - loss: 0.0721 - acc: 0.9806 - val_loss: nan - val_acc: 0.9745\n",
      "Epoch 16/20\n",
      "110288/110288 [==============================] - 41s 371us/step - loss: 0.0632 - acc: 0.9829 - val_loss: nan - val_acc: 0.9742\n",
      "Epoch 17/20\n",
      "110288/110288 [==============================] - 41s 371us/step - loss: 0.0690 - acc: 0.9811 - val_loss: nan - val_acc: 0.9747\n",
      "Epoch 18/20\n",
      "110288/110288 [==============================] - 41s 371us/step - loss: 0.0760 - acc: 0.9791 - val_loss: nan - val_acc: 0.9756\n",
      "Epoch 19/20\n",
      "110288/110288 [==============================] - 41s 371us/step - loss: 0.0573 - acc: 0.9842 - val_loss: nan - val_acc: 0.9782\n",
      "Epoch 20/20\n",
      "110288/110288 [==============================] - 41s 371us/step - loss: 0.0588 - acc: 0.9839 - val_loss: nan - val_acc: 0.9785\n",
      "Final Model Loaded\n"
     ]
    }
   ],
   "source": [
    "def model_final(input_shape, output_sequence_length, english_vocab_size, french_vocab_size):\n",
    "    \"\"\"\n",
    "    Build and train a model that incorporates embedding, encoder-decoder, and bidirectional RNN on x and y\n",
    "    :param input_shape: Tuple of input shape\n",
    "    :param output_sequence_length: Length of output sequence\n",
    "    :param english_vocab_size: Number of unique English words in the dataset\n",
    "    :param french_vocab_size: Number of unique French words in the dataset\n",
    "    :return: Keras model built, but not trained\n",
    "    \"\"\"\n",
    "    \n",
    "    learning_rate = 6e-3\n",
    "    embedding_size = 256\n",
    "    units = 256\n",
    "    \n",
    "    model = Sequential()\n",
    "    \n",
    "    ########### ENCODER ###########\n",
    "    \n",
    "    model.add(Embedding(input_dim = english_vocab_size, output_dim = embedding_size, \n",
    "                           input_length= input_shape[1], name=\"Embedding_layer\"))\n",
    "    model.add(Bidirectional(LSTM(units, return_sequences=False), name='Bi_LSTM_encoder'))\n",
    "    \n",
    "    ########### INTERMEDIARY ###########\n",
    "    \n",
    "    model.add(RepeatVector(output_sequence_length, name='Glue'))\n",
    "    \n",
    "    ########### DECODER ###########\n",
    "    \n",
    "    model.add(LSTM(units, return_sequences=True, name='LSTM_decoder'))\n",
    "    model.add(TimeDistributed(Dense(french_vocab_size, activation='softmax'), name='Dense'))\n",
    "    \n",
    "    ########### END-TO-END MODEL ###########\n",
    "    \n",
    "    model.compile(loss=sparse_categorical_crossentropy,\n",
    "                  optimizer=Adam(learning_rate),\n",
    "                  metrics=['accuracy'])\n",
    "    \n",
    "    return model\n",
    "\n",
    "tests.test_model_final(model_final)\n",
    "\n",
    "# TODO: Train the final model\n",
    "\n",
    "tmp_x = pad(preproc_english_sentences, max_french_sequence_length) # pad input sequence to output sequence length\n",
    "tmp_x = tmp_x.reshape((-1, preproc_french_sentences.shape[-2]))    # reshape for embedding input\n",
    "\n",
    "# Train the neural network\n",
    "final_model = model_final(\n",
    "                        tmp_x.shape,\n",
    "                        max_french_sequence_length,\n",
    "                        english_vocab_size,\n",
    "                        french_vocab_size)\n",
    "\n",
    "final_model.summary()\n",
    "\n",
    "final_model.fit(tmp_x, preproc_french_sentences, batch_size=1024, epochs=20, validation_split=0.2)\n",
    "\n",
    "print('Final Model Loaded')"
   ]
  },
  {
   "cell_type": "code",
   "execution_count": 49,
   "metadata": {},
   "outputs": [
    {
     "name": "stdout",
     "output_type": "stream",
     "text": [
      "---- Original ----\n",
      "new jersey is sometimes quiet during autumn and it is snowy in april\n",
      "\n",
      "---- Gold standard ----\n",
      "new jersey est parfois calme pendant l' automne et il est neigeux en avril\n",
      "\n",
      "---- Prediction ----\n",
      "\u001b[0;30;0m new\u001b[0;30;0m jersey\u001b[0;30;0m est\u001b[0;30;0m parfois\u001b[0;30;0m calme\u001b[0;30;0m pendant\u001b[0;30;0m l'\u001b[0;30;0m automne\u001b[0;30;0m et\u001b[0;30;0m il\u001b[0;30;0m est\u001b[0;30;0m neigeux\u001b[0;30;0m en\u001b[0;30;0m avril\n"
     ]
    }
   ],
   "source": [
    "print('---- Original ----')\n",
    "print(' '.join(token_to_words(tmp_x[:1][0],english_tokenizer) ))\n",
    "print()\n",
    "translate(final_model.predict(tmp_x[:1]), preproc_french_sentences[:1])"
   ]
  },
  {
   "cell_type": "markdown",
   "metadata": {},
   "source": [
    "### Save Best Model"
   ]
  },
  {
   "cell_type": "code",
   "execution_count": 50,
   "metadata": {},
   "outputs": [],
   "source": [
    "# Save the weights\n",
    "final_model.save_weights('final_model')"
   ]
  },
  {
   "cell_type": "code",
   "execution_count": 51,
   "metadata": {},
   "outputs": [],
   "source": [
    "# Save the entire model as a SavedModel.\n",
    "!mkdir -p saved_model\n",
    "final_model.save('saved_model/final_model_full')"
   ]
  },
  {
   "cell_type": "markdown",
   "metadata": {},
   "source": [
    "## Prediction (IMPLEMENTATION)\n",
    "- the objective is to reach a minimum of 95% validation accuracy so that to have meaningful predictions"
   ]
  },
  {
   "cell_type": "code",
   "execution_count": 34,
   "metadata": {},
   "outputs": [
    {
     "name": "stdout",
     "output_type": "stream",
     "text": [
      "_________________________________________________________________\n",
      "Layer (type)                 Output Shape              Param #   \n",
      "=================================================================\n",
      "Embedding_layer (Embedding)  (None, 15, 256)           50944     \n",
      "_________________________________________________________________\n",
      "Bi_LSTM_encoder (Bidirection (None, 512)               1050624   \n",
      "_________________________________________________________________\n",
      "Glue (RepeatVector)          (None, 21, 512)           0         \n",
      "_________________________________________________________________\n",
      "LSTM_decoder (LSTM)          (None, 21, 256)           787456    \n",
      "_________________________________________________________________\n",
      "Dense (TimeDistributed)      (None, 21, 344)           88408     \n",
      "=================================================================\n",
      "Total params: 1,977,432\n",
      "Trainable params: 1,977,432\n",
      "Non-trainable params: 0\n",
      "_________________________________________________________________\n",
      "Train on 110288 samples, validate on 27573 samples\n",
      "Epoch 1/10\n",
      "110288/110288 [==============================] - 37s 332us/step - loss: 2.4026 - acc: 0.4874 - val_loss: nan - val_acc: 0.5710\n",
      "Epoch 2/10\n",
      "110288/110288 [==============================] - 35s 313us/step - loss: 1.4013 - acc: 0.6224 - val_loss: nan - val_acc: 0.6616\n",
      "Epoch 3/10\n",
      "110288/110288 [==============================] - 35s 313us/step - loss: 1.0282 - acc: 0.7080 - val_loss: nan - val_acc: 0.7492\n",
      "Epoch 4/10\n",
      "110288/110288 [==============================] - 35s 314us/step - loss: 0.7474 - acc: 0.7807 - val_loss: nan - val_acc: 0.8167\n",
      "Epoch 5/10\n",
      "110288/110288 [==============================] - 35s 314us/step - loss: 0.5208 - acc: 0.8469 - val_loss: nan - val_acc: 0.8768\n",
      "Epoch 6/10\n",
      "110288/110288 [==============================] - 35s 314us/step - loss: 0.3440 - acc: 0.9024 - val_loss: nan - val_acc: 0.9248\n",
      "Epoch 7/10\n",
      "110288/110288 [==============================] - 35s 314us/step - loss: 0.2372 - acc: 0.9367 - val_loss: nan - val_acc: 0.9458\n",
      "Epoch 8/10\n",
      "110288/110288 [==============================] - 35s 314us/step - loss: 0.1680 - acc: 0.9560 - val_loss: nan - val_acc: 0.9566\n",
      "Epoch 9/10\n",
      "110288/110288 [==============================] - 35s 314us/step - loss: 0.1345 - acc: 0.9644 - val_loss: nan - val_acc: 0.9622\n",
      "Epoch 10/10\n",
      "110288/110288 [==============================] - 35s 314us/step - loss: 0.1124 - acc: 0.9694 - val_loss: nan - val_acc: 0.9693\n",
      "Sample 1:\n",
      "il a vu un vieux camion jaune <PAD> <PAD> <PAD> <PAD> <PAD> <PAD> <PAD> <PAD> <PAD> <PAD> <PAD> <PAD> <PAD> <PAD>\n",
      "Il a vu un vieux camion jaune\n",
      "Sample 2:\n",
      "new jersey est parfois calme pendant l' automne et il est neigeux en avril <PAD> <PAD> <PAD> <PAD> <PAD> <PAD> <PAD>\n",
      "new jersey est parfois calme pendant l' automne et il est neigeux en avril <PAD> <PAD> <PAD> <PAD> <PAD> <PAD> <PAD>\n"
     ]
    }
   ],
   "source": [
    "def final_predictions(x, y, x_tk, y_tk):\n",
    "    \"\"\"\n",
    "    Gets predictions using the final model\n",
    "    :param x: Preprocessed English data\n",
    "    :param y: Preprocessed French data\n",
    "    :param x_tk: English tokenizer\n",
    "    :param y_tk: French tokenizer\n",
    "    \"\"\"\n",
    "    # align padded english sequence to the length of french padded length\n",
    "    x = pad_sequences(x)     \n",
    "    \n",
    "    # Instantiate the best model\n",
    "    model = model_final(\n",
    "                        x.shape,\n",
    "                        y.shape[1],\n",
    "                        len(x_tk.word_index),\n",
    "                        len(y_tk.word_index))\n",
    "    \n",
    "    model.summary()\n",
    "                                 \n",
    "    # train the model - Reach a minimum of 94% accuracy so that to have meaningful predictions\n",
    "    model.fit(x, y, batch_size=1024, epochs=10, validation_split=0.2)\n",
    "\n",
    "    \n",
    "    ## DON'T EDIT ANYTHING BELOW THIS LINE\n",
    "    y_id_to_word = {value: key for key, value in y_tk.word_index.items()}\n",
    "    y_id_to_word[0] = '<PAD>'\n",
    "\n",
    "    sentence = 'he saw a old yellow truck'\n",
    "    sentence = [x_tk.word_index[word] for word in sentence.split()]\n",
    "    sentence = pad_sequences([sentence], maxlen=x.shape[-1], padding='post')\n",
    "    sentences = np.array([sentence[0], x[0]])\n",
    "    predictions = model.predict(sentences, len(sentences))\n",
    "\n",
    "    print('Sample 1:')\n",
    "    print(' '.join([y_id_to_word[np.argmax(x)] for x in predictions[0]]))\n",
    "    print('Il a vu un vieux camion jaune')\n",
    "    print('Sample 2:')\n",
    "    print(' '.join([y_id_to_word[np.argmax(x)] for x in predictions[1]]))\n",
    "    print(' '.join([y_id_to_word[np.max(x)] for x in y[0]]))\n",
    "\n",
    "final_predictions(preproc_english_sentences, preproc_french_sentences, english_tokenizer, french_tokenizer)"
   ]
  },
  {
   "cell_type": "markdown",
   "metadata": {},
   "source": [
    "## ALTERNATIVES\n",
    "- Encoder-Decoder model based on GRU cells with depth of 2 layers for both RNN"
   ]
  },
  {
   "cell_type": "code",
   "execution_count": 54,
   "metadata": {},
   "outputs": [
    {
     "name": "stdout",
     "output_type": "stream",
     "text": [
      "_________________________________________________________________\n",
      "Layer (type)                 Output Shape              Param #   \n",
      "=================================================================\n",
      "input_Encoder (InputLayer)   (None, 15)                0         \n",
      "_________________________________________________________________\n",
      "Embedding_layer (Embedding)  (None, 15, 512)           101888    \n",
      "_________________________________________________________________\n",
      "Bidir_encoder (Bidirectional (None, 512)               1181184   \n",
      "_________________________________________________________________\n",
      "repeat_vector_4 (RepeatVecto (None, 21, 512)           0         \n",
      "_________________________________________________________________\n",
      "LSTM_layer1 (GRU)            (None, 21, 256)           590592    \n",
      "_________________________________________________________________\n",
      "LSTM_layer2 (GRU)            (None, 21, 256)           393984    \n",
      "_________________________________________________________________\n",
      "Dense_layer (TimeDistributed (None, 21, 344)           88408     \n",
      "=================================================================\n",
      "Total params: 2,356,056\n",
      "Trainable params: 2,356,056\n",
      "Non-trainable params: 0\n",
      "_________________________________________________________________\n",
      "Train on 110288 samples, validate on 27573 samples\n",
      "Epoch 1/20\n",
      "110288/110288 [==============================] - 44s 400us/step - loss: 2.7023 - acc: 0.4594 - val_loss: nan - val_acc: 0.5373\n",
      "Epoch 2/20\n",
      "110288/110288 [==============================] - 40s 359us/step - loss: 1.6673 - acc: 0.5730 - val_loss: nan - val_acc: 0.6059\n",
      "Epoch 3/20\n",
      "110288/110288 [==============================] - 40s 359us/step - loss: 1.3702 - acc: 0.6223 - val_loss: nan - val_acc: 0.6374\n",
      "Epoch 4/20\n",
      "110288/110288 [==============================] - 40s 360us/step - loss: 1.1867 - acc: 0.6691 - val_loss: nan - val_acc: 0.6970\n",
      "Epoch 5/20\n",
      "110288/110288 [==============================] - 40s 359us/step - loss: 1.0322 - acc: 0.7062 - val_loss: nan - val_acc: 0.6812\n",
      "Epoch 6/20\n",
      "110288/110288 [==============================] - 40s 359us/step - loss: 0.9423 - acc: 0.7247 - val_loss: nan - val_acc: 0.7292\n",
      "Epoch 7/20\n",
      "110288/110288 [==============================] - 40s 359us/step - loss: 0.8628 - acc: 0.7447 - val_loss: nan - val_acc: 0.7570\n",
      "Epoch 8/20\n",
      "110288/110288 [==============================] - 40s 359us/step - loss: 0.8027 - acc: 0.7621 - val_loss: nan - val_acc: 0.7673\n",
      "Epoch 9/20\n",
      "110288/110288 [==============================] - 40s 359us/step - loss: 0.7217 - acc: 0.7839 - val_loss: nan - val_acc: 0.7939\n",
      "Epoch 10/20\n",
      "110288/110288 [==============================] - 40s 359us/step - loss: 0.6505 - acc: 0.8049 - val_loss: nan - val_acc: 0.8133\n",
      "Epoch 11/20\n",
      "110288/110288 [==============================] - 40s 360us/step - loss: 0.5832 - acc: 0.8255 - val_loss: nan - val_acc: 0.8350\n",
      "Epoch 12/20\n",
      "110288/110288 [==============================] - 40s 360us/step - loss: 0.5244 - acc: 0.8440 - val_loss: nan - val_acc: 0.8525\n",
      "Epoch 13/20\n",
      "110288/110288 [==============================] - 40s 359us/step - loss: 0.4715 - acc: 0.8601 - val_loss: nan - val_acc: 0.8697\n",
      "Epoch 14/20\n",
      "110288/110288 [==============================] - 40s 359us/step - loss: 0.4183 - acc: 0.8779 - val_loss: nan - val_acc: 0.8864\n",
      "Epoch 15/20\n",
      "110288/110288 [==============================] - 40s 360us/step - loss: 0.3631 - acc: 0.8974 - val_loss: nan - val_acc: 0.9065\n",
      "Epoch 16/20\n",
      "110288/110288 [==============================] - 40s 360us/step - loss: 0.3093 - acc: 0.9155 - val_loss: nan - val_acc: 0.9137\n",
      "Epoch 17/20\n",
      "110288/110288 [==============================] - 40s 359us/step - loss: 0.2890 - acc: 0.9211 - val_loss: nan - val_acc: 0.9321\n",
      "Epoch 18/20\n",
      "110288/110288 [==============================] - 40s 360us/step - loss: 0.2332 - acc: 0.9390 - val_loss: nan - val_acc: 0.9412\n",
      "Epoch 19/20\n",
      "110288/110288 [==============================] - 40s 360us/step - loss: 0.2082 - acc: 0.9462 - val_loss: nan - val_acc: 0.9475\n",
      "Epoch 20/20\n",
      "110288/110288 [==============================] - 40s 359us/step - loss: 0.1741 - acc: 0.9567 - val_loss: nan - val_acc: 0.9599\n",
      "Sample 1:\n",
      "il a vu un vieux camion jaune <PAD> <PAD> <PAD> <PAD> <PAD> <PAD> <PAD> <PAD> <PAD> <PAD> <PAD> <PAD> <PAD> <PAD>\n",
      "Il a vu un vieux camion jaune\n",
      "Sample 2:\n",
      "new jersey est parfois calme pendant l' automne et il est neigeux en avril <PAD> <PAD> <PAD> <PAD> <PAD> <PAD> <PAD>\n",
      "new jersey est parfois calme pendant l' automne et il est neigeux en avril <PAD> <PAD> <PAD> <PAD> <PAD> <PAD> <PAD>\n"
     ]
    }
   ],
   "source": [
    "def final_predictions(x, y, x_tk, y_tk):\n",
    "    \"\"\"\n",
    "    Gets predictions using the final model\n",
    "    :param x: Preprocessed English data\n",
    "    :param y: Preprocessed French data\n",
    "    :param x_tk: English tokenizer\n",
    "    :param y_tk: French tokenizer\n",
    "    \"\"\"\n",
    "    # TODO: Train neural network using model_final\n",
    "    \n",
    "    # align padded english sequence to the length of french padded length\n",
    "    x = pad_sequences(x)     \n",
    "    \n",
    "    # Instantiate the best model\n",
    "    model = encdec_model(\n",
    "                        x.shape,\n",
    "                        y.shape[1],\n",
    "                        len(x_tk.word_index),\n",
    "                        len(y_tk.word_index))\n",
    "    \n",
    "    model.summary()\n",
    "                                 \n",
    "    # train the model - Reach a minimum of 94% accuracy so that to have meaningful predictions\n",
    "    model.fit(x, y, batch_size=1024, epochs=20, validation_split=0.2)\n",
    "\n",
    "    \n",
    "    ## DON'T EDIT ANYTHING BELOW THIS LINE\n",
    "    y_id_to_word = {value: key for key, value in y_tk.word_index.items()}\n",
    "    y_id_to_word[0] = '<PAD>'\n",
    "\n",
    "    sentence = 'he saw a old yellow truck'\n",
    "    sentence = [x_tk.word_index[word] for word in sentence.split()]\n",
    "    sentence = pad_sequences([sentence], maxlen=x.shape[-1], padding='post')\n",
    "    sentences = np.array([sentence[0], x[0]])\n",
    "    predictions = model.predict(sentences, len(sentences))\n",
    "\n",
    "    print('Sample 1:')\n",
    "    print(' '.join([y_id_to_word[np.argmax(x)] for x in predictions[0]]))\n",
    "    print('Il a vu un vieux camion jaune')\n",
    "    print('Sample 2:')\n",
    "    print(' '.join([y_id_to_word[np.argmax(x)] for x in predictions[1]]))\n",
    "    print(' '.join([y_id_to_word[np.max(x)] for x in y[0]]))\n",
    "\n",
    "\n",
    "final_predictions(preproc_english_sentences, preproc_french_sentences, english_tokenizer, french_tokenizer)"
   ]
  },
  {
   "cell_type": "markdown",
   "metadata": {},
   "source": [
    "## OPTION TO LOAD PRE-EXISTING MODEL WEIGHTS ######"
   ]
  },
  {
   "cell_type": "code",
   "execution_count": 52,
   "metadata": {},
   "outputs": [
    {
     "name": "stdout",
     "output_type": "stream",
     "text": [
      "_________________________________________________________________\n",
      "Layer (type)                 Output Shape              Param #   \n",
      "=================================================================\n",
      "input_Encoder (InputLayer)   (None, 21)                0         \n",
      "_________________________________________________________________\n",
      "Embedding_layer (Embedding)  (None, 21, 512)           101888    \n",
      "_________________________________________________________________\n",
      "Bidir_encoder (Bidirectional (None, 512)               1181184   \n",
      "_________________________________________________________________\n",
      "repeat_vector_14 (RepeatVect (None, 21, 512)           0         \n",
      "_________________________________________________________________\n",
      "LSTM_layer1 (GRU)            (None, 21, 256)           590592    \n",
      "_________________________________________________________________\n",
      "LSTM_layer2 (GRU)            (None, 21, 256)           393984    \n",
      "_________________________________________________________________\n",
      "Dense_layer (TimeDistributed (None, 21, 344)           88408     \n",
      "=================================================================\n",
      "Total params: 2,356,056\n",
      "Trainable params: 2,356,056\n",
      "Non-trainable params: 0\n",
      "_________________________________________________________________\n",
      "Sample 1:\n",
      "il a vu un vieux camion jaune <PAD> <PAD> <PAD> <PAD> <PAD> <PAD> <PAD> <PAD> <PAD> <PAD> <PAD> <PAD> <PAD> <PAD>\n",
      "Il a vu un vieux camion jaune\n",
      "Sample 2:\n",
      "new jersey jersey beau en mois d' septembre est il est en en <PAD> <PAD> <PAD> <PAD> <PAD> <PAD> <PAD> <PAD>\n",
      "new jersey est parfois calme pendant l' automne et il est neigeux en avril <PAD> <PAD> <PAD> <PAD> <PAD> <PAD> <PAD>\n"
     ]
    }
   ],
   "source": [
    "def final_predictions_(x, y, x_tk, y_tk):\n",
    "    \"\"\"\n",
    "    Gets predictions using the final model\n",
    "    :param x: Preprocessed English data\n",
    "    :param y: Preprocessed French data\n",
    "    :param x_tk: English tokenizer\n",
    "    :param y_tk: French tokenizer\n",
    "    \"\"\"\n",
    "    # TODO: Train neural network using model_final\n",
    "    \n",
    "    # align padded english sequence to the length of french padded length\n",
    "    x = pad_sequences(x, y.shape[1])     \n",
    "    \n",
    "    # Instantiate the best model\n",
    "    model = encdec_model(\n",
    "                        x.shape,\n",
    "                        y.shape[1],\n",
    "                        len(x_tk.word_index),\n",
    "                        len(y_tk.word_index))\n",
    "    model.load_weights('final_model_encdec_GRU')\n",
    "    \n",
    "    model.summary()\n",
    "    \n",
    "    ## DON'T EDIT ANYTHING BELOW THIS LINE\n",
    "    y_id_to_word = {value: key for key, value in y_tk.word_index.items()}\n",
    "    y_id_to_word[0] = '<PAD>'\n",
    "\n",
    "    sentence = 'he saw a old yellow truck'\n",
    "    sentence = [x_tk.word_index[word] for word in sentence.split()]\n",
    "    sentence = pad_sequences([sentence], maxlen=x.shape[-1], padding='post')\n",
    "    sentences = np.array([sentence[0], x[0]])\n",
    "    predictions = model.predict(sentences, len(sentences))\n",
    "\n",
    "    print('Sample 1:')\n",
    "    print(' '.join([y_id_to_word[np.argmax(x)] for x in predictions[0]]))\n",
    "    print('Il a vu un vieux camion jaune')\n",
    "    print('Sample 2:')\n",
    "    print(' '.join([y_id_to_word[np.argmax(x)] for x in predictions[1]]))\n",
    "    print(' '.join([y_id_to_word[np.max(x)] for x in y[0]]))\n",
    "\n",
    "\n",
    "final_predictions_(preproc_english_sentences, preproc_french_sentences, english_tokenizer, french_tokenizer)"
   ]
  },
  {
   "cell_type": "markdown",
   "metadata": {},
   "source": [
    "## Submission\n",
    "When you're ready to submit, complete the following steps:\n",
    "1. Review the [rubric](https://review.udacity.com/#!/rubrics/1004/view) to ensure your submission meets all requirements to pass\n",
    "2. Generate an HTML version of this notebook\n",
    "\n",
    "  - Run the next cell to attempt automatic generation (this is the recommended method in Workspaces)\n",
    "  - Navigate to **FILE -> Download as -> HTML (.html)**\n",
    "  - Manually generate a copy using `nbconvert` from your shell terminal\n",
    "```\n",
    "$ pip install nbconvert\n",
    "$ python -m nbconvert machine_translation.ipynb\n",
    "```\n",
    "  \n",
    "3. Submit the project\n",
    "\n",
    "  - If you are in a Workspace, simply click the \"Submit Project\" button (bottom towards the right)\n",
    "  \n",
    "  - Otherwise, add the following files into a zip archive and submit them \n",
    "  - `helper.py`\n",
    "  - `machine_translation.ipynb`\n",
    "  - `machine_translation.html`\n",
    "    - You can export the notebook by navigating to **File -> Download as -> HTML (.html)**."
   ]
  },
  {
   "cell_type": "markdown",
   "metadata": {},
   "source": [
    "### Generate the html\n",
    "\n",
    "**Save your notebook before running the next cell to generate the HTML output.** Then submit your project."
   ]
  },
  {
   "cell_type": "code",
   "execution_count": 56,
   "metadata": {},
   "outputs": [
    {
     "data": {
      "text/plain": [
       "['[NbConvertApp] Converting notebook machine_translation-Copy1.ipynb to html',\n",
       " '[NbConvertApp] Writing 509712 bytes to machine_translation-Copy1.html',\n",
       " '[NbConvertApp] Converting notebook machine_translation.ipynb to html',\n",
       " '[NbConvertApp] Writing 425160 bytes to machine_translation.html']"
      ]
     },
     "execution_count": 56,
     "metadata": {},
     "output_type": "execute_result"
    }
   ],
   "source": [
    "# Save before you run this cell!\n",
    "!!jupyter nbconvert *.ipynb"
   ]
  },
  {
   "cell_type": "markdown",
   "metadata": {},
   "source": [
    "## Optional Enhancements\n",
    "\n",
    "This project focuses on learning various network architectures for machine translation, but we don't evaluate the models according to best practices by splitting the data into separate test & training sets -- so the model accuracy is overstated. Use the [`sklearn.model_selection.train_test_split()`](http://scikit-learn.org/stable/modules/generated/sklearn.model_selection.train_test_split.html) function to create separate training & test datasets, then retrain each of the models using only the training set and evaluate the prediction accuracy using the hold out test set. Does the \"best\" model change?"
   ]
  },
  {
   "cell_type": "code",
   "execution_count": null,
   "metadata": {},
   "outputs": [],
   "source": []
  }
 ],
 "metadata": {
  "kernelspec": {
   "display_name": "nlp_py37",
   "language": "python",
   "name": "nlp_py37"
  },
  "language_info": {
   "codemirror_mode": {
    "name": "ipython",
    "version": 3
   },
   "file_extension": ".py",
   "mimetype": "text/x-python",
   "name": "python",
   "nbconvert_exporter": "python",
   "pygments_lexer": "ipython3",
   "version": "3.7.9"
  }
 },
 "nbformat": 4,
 "nbformat_minor": 1
}
